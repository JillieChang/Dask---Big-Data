{
 "cells": [
  {
   "cell_type": "markdown",
   "id": "27cd88be",
   "metadata": {},
   "source": [
    "<p style=\"text-align:center;font-weight: bold;\">  </p>\n",
    "<p style=\"text-align:center;font-size:30px;font-weight: bold;\">How to read and manage large datasets with Dask</p>\n",
    "<p style=\"text-align:center;font-weight: bold;\">  </p>\n",
    "<p style=\"text-align:center;font-size:15px\">The Power of Parallel Computing</p>\n",
    "<p>  </p>\n"
   ]
  },
  {
   "cell_type": "markdown",
   "id": "f4207028",
   "metadata": {},
   "source": [
    "Dask is a flexible library for parallel computing in Python. It lets you work on arbitrarily large datasets and dramatically increases the speed of your computations. The good thing is that you can use all your favorite Python libraries as Dask is built in coordination with numpy, scikit-learn, scikit-image, pandas, xgboost, RAPIDS, and others. For more information you can visit https://docs.dask.org/en/stable/"
   ]
  },
  {
   "cell_type": "markdown",
   "id": "dc908c43",
   "metadata": {},
   "source": [
    "### Libraries"
   ]
  },
  {
   "cell_type": "code",
   "execution_count": null,
   "id": "f5c10ed7",
   "metadata": {},
   "outputs": [],
   "source": [
    "pip install dask"
   ]
  },
  {
   "cell_type": "code",
   "execution_count": 3,
   "id": "6a9f9162",
   "metadata": {},
   "outputs": [],
   "source": [
    "import pandas as pd\n",
    "import dask.dataframe as dd\n",
    "import hvplot.dask\n",
    "import matplotlib.pyplot as plt\n",
    "import warnings\n",
    "warnings.filterwarnings(\"ignore\")"
   ]
  },
  {
   "cell_type": "markdown",
   "id": "f2e2608c",
   "metadata": {},
   "source": [
    "### Data"
   ]
  },
  {
   "cell_type": "code",
   "execution_count": 191,
   "id": "459e6678",
   "metadata": {},
   "outputs": [
    {
     "data": {
      "text/plain": [
       "'D:\\\\Usuarios\\\\jchang'"
      ]
     },
     "execution_count": 191,
     "metadata": {},
     "output_type": "execute_result"
    }
   ],
   "source": [
    "pwd"
   ]
  },
  {
   "cell_type": "code",
   "execution_count": 4,
   "id": "3268c7fa",
   "metadata": {
    "scrolled": true
   },
   "outputs": [
    {
     "name": "stdout",
     "output_type": "stream",
     "text": [
      "Wall time: 38 ms\n"
     ]
    },
    {
     "data": {
      "text/plain": [
       "dask.dataframe.core.DataFrame"
      ]
     },
     "execution_count": 4,
     "metadata": {},
     "output_type": "execute_result"
    }
   ],
   "source": [
    "%%time\n",
    "# dataset size: 7GB cpe_202107, cpe_202112.txt 10GB\n",
    "fields = ['num_ruc','mto_total_Soles2','cod_Cpe']\n",
    "types_dict = {'cod_Cpe':str}\n",
    "# txt\n",
    "df1 = dd.read_csv(r\"D:\\Usuarios\\jchang\\Desktop\\2_entrega26ENE2023\\cpe_202107.txt\", sep='|', encoding= 'unicode_escape', usecols=fields, dtype=types_dict)\n",
    "df2 = dd.read_csv(r\"D:\\Usuarios\\jchang\\Desktop\\2_entrega26ENE2023\\cpe_202112.txt\", sep='|', encoding= 'unicode_escape', usecols=fields, dtype=types_dict)\n",
    "# csv\n",
    "#df1 = dd.read_csv(r\"D:\\Usuarios\\jchang\\Desktop\\2_entrega26ENE2023\\prueba.csv\", encoding= 'unicode_escape',usecols=fields, dtype=types_dict)\n",
    "type(df1)"
   ]
  },
  {
   "cell_type": "code",
   "execution_count": 5,
   "id": "62527c16",
   "metadata": {},
   "outputs": [
    {
     "data": {
      "text/html": [
       "<div><strong>Dask DataFrame Structure:</strong></div>\n",
       "<div>\n",
       "<style scoped>\n",
       "    .dataframe tbody tr th:only-of-type {\n",
       "        vertical-align: middle;\n",
       "    }\n",
       "\n",
       "    .dataframe tbody tr th {\n",
       "        vertical-align: top;\n",
       "    }\n",
       "\n",
       "    .dataframe thead th {\n",
       "        text-align: right;\n",
       "    }\n",
       "</style>\n",
       "<table border=\"1\" class=\"dataframe\">\n",
       "  <thead>\n",
       "    <tr style=\"text-align: right;\">\n",
       "      <th></th>\n",
       "      <th>num_ruc</th>\n",
       "      <th>cod_Cpe</th>\n",
       "      <th>mto_total_Soles2</th>\n",
       "    </tr>\n",
       "    <tr>\n",
       "      <th>npartitions=130</th>\n",
       "      <th></th>\n",
       "      <th></th>\n",
       "      <th></th>\n",
       "    </tr>\n",
       "  </thead>\n",
       "  <tbody>\n",
       "    <tr>\n",
       "      <th></th>\n",
       "      <td>int64</td>\n",
       "      <td>object</td>\n",
       "      <td>float64</td>\n",
       "    </tr>\n",
       "    <tr>\n",
       "      <th></th>\n",
       "      <td>...</td>\n",
       "      <td>...</td>\n",
       "      <td>...</td>\n",
       "    </tr>\n",
       "    <tr>\n",
       "      <th>...</th>\n",
       "      <td>...</td>\n",
       "      <td>...</td>\n",
       "      <td>...</td>\n",
       "    </tr>\n",
       "    <tr>\n",
       "      <th></th>\n",
       "      <td>...</td>\n",
       "      <td>...</td>\n",
       "      <td>...</td>\n",
       "    </tr>\n",
       "    <tr>\n",
       "      <th></th>\n",
       "      <td>...</td>\n",
       "      <td>...</td>\n",
       "      <td>...</td>\n",
       "    </tr>\n",
       "  </tbody>\n",
       "</table>\n",
       "</div>\n",
       "<div>Dask Name: read-csv, 130 tasks</div>"
      ],
      "text/plain": [
       "Dask DataFrame Structure:\n",
       "                num_ruc cod_Cpe mto_total_Soles2\n",
       "npartitions=130                                 \n",
       "                  int64  object          float64\n",
       "                    ...     ...              ...\n",
       "...                 ...     ...              ...\n",
       "                    ...     ...              ...\n",
       "                    ...     ...              ...\n",
       "Dask Name: read-csv, 130 tasks"
      ]
     },
     "execution_count": 5,
     "metadata": {},
     "output_type": "execute_result"
    }
   ],
   "source": [
    "df1"
   ]
  },
  {
   "cell_type": "markdown",
   "id": "a603cc2a",
   "metadata": {},
   "source": [
    "### Statistics"
   ]
  },
  {
   "cell_type": "code",
   "execution_count": null,
   "id": "b0ee7f2b",
   "metadata": {},
   "outputs": [],
   "source": [
    "%%time\n",
    "df1['mto_total_Soles2'].describe().apply(lambda x: format(x, 'f')).compute()"
   ]
  },
  {
   "cell_type": "code",
   "execution_count": null,
   "id": "b85a370e",
   "metadata": {},
   "outputs": [],
   "source": [
    "df1.groupby(\"cod_Cpe\").mto_total_Soles2.mean().compute()"
   ]
  },
  {
   "cell_type": "code",
   "execution_count": 7,
   "id": "28f990b8",
   "metadata": {},
   "outputs": [
    {
     "name": "stdout",
     "output_type": "stream",
     "text": [
      "Wall time: 3min 13s\n"
     ]
    },
    {
     "data": {
      "text/html": [
       "<div>\n",
       "<style scoped>\n",
       "    .dataframe tbody tr th:only-of-type {\n",
       "        vertical-align: middle;\n",
       "    }\n",
       "\n",
       "    .dataframe tbody tr th {\n",
       "        vertical-align: top;\n",
       "    }\n",
       "\n",
       "    .dataframe thead th {\n",
       "        text-align: right;\n",
       "    }\n",
       "</style>\n",
       "<table border=\"1\" class=\"dataframe\">\n",
       "  <thead>\n",
       "    <tr style=\"text-align: right;\">\n",
       "      <th></th>\n",
       "      <th>mto_total_Soles2</th>\n",
       "      <th>mto_total_Soles2</th>\n",
       "      <th>mto_total_Soles2</th>\n",
       "      <th>mto_total_Soles2</th>\n",
       "    </tr>\n",
       "  </thead>\n",
       "  <tbody>\n",
       "    <tr>\n",
       "      <th>count</th>\n",
       "      <td>35003423.000000</td>\n",
       "      <td>190291958.000000</td>\n",
       "      <td>2312743.000000</td>\n",
       "      <td>237818.000000</td>\n",
       "    </tr>\n",
       "    <tr>\n",
       "      <th>mean</th>\n",
       "      <td>4537.606765</td>\n",
       "      <td>131.792959</td>\n",
       "      <td>22420.429883</td>\n",
       "      <td>6729.025235</td>\n",
       "    </tr>\n",
       "    <tr>\n",
       "      <th>std</th>\n",
       "      <td>2194278.453770</td>\n",
       "      <td>24985.135827</td>\n",
       "      <td>8515063.326616</td>\n",
       "      <td>1088290.575566</td>\n",
       "    </tr>\n",
       "    <tr>\n",
       "      <th>min</th>\n",
       "      <td>0.000000</td>\n",
       "      <td>0.000000</td>\n",
       "      <td>0.000000</td>\n",
       "      <td>0.000000</td>\n",
       "    </tr>\n",
       "    <tr>\n",
       "      <th>1%</th>\n",
       "      <td>5.000000</td>\n",
       "      <td>1.000000</td>\n",
       "      <td>1.600000</td>\n",
       "      <td>0.100000</td>\n",
       "    </tr>\n",
       "    <tr>\n",
       "      <th>5%</th>\n",
       "      <td>8.600000</td>\n",
       "      <td>3.100000</td>\n",
       "      <td>5.900000</td>\n",
       "      <td>1.000000</td>\n",
       "    </tr>\n",
       "    <tr>\n",
       "      <th>10%</th>\n",
       "      <td>16.000000</td>\n",
       "      <td>5.000000</td>\n",
       "      <td>11.600000</td>\n",
       "      <td>3.500000</td>\n",
       "    </tr>\n",
       "    <tr>\n",
       "      <th>25%</th>\n",
       "      <td>50.000000</td>\n",
       "      <td>10.200000</td>\n",
       "      <td>41.400000</td>\n",
       "      <td>16.000000</td>\n",
       "    </tr>\n",
       "    <tr>\n",
       "      <th>50%</th>\n",
       "      <td>190.000000</td>\n",
       "      <td>33.500000</td>\n",
       "      <td>150.000000</td>\n",
       "      <td>36.120000</td>\n",
       "    </tr>\n",
       "    <tr>\n",
       "      <th>75%</th>\n",
       "      <td>921.200000</td>\n",
       "      <td>100.000000</td>\n",
       "      <td>759.700000</td>\n",
       "      <td>136.045000</td>\n",
       "    </tr>\n",
       "    <tr>\n",
       "      <th>85%</th>\n",
       "      <td>2052.000000</td>\n",
       "      <td>165.500000</td>\n",
       "      <td>2699.800000</td>\n",
       "      <td>368.309000</td>\n",
       "    </tr>\n",
       "    <tr>\n",
       "      <th>90%</th>\n",
       "      <td>5087.700000</td>\n",
       "      <td>432.000000</td>\n",
       "      <td>5201.600000</td>\n",
       "      <td>877.250000</td>\n",
       "    </tr>\n",
       "    <tr>\n",
       "      <th>99%</th>\n",
       "      <td>90054.231500</td>\n",
       "      <td>3819.262500</td>\n",
       "      <td>236901.787010</td>\n",
       "      <td>145838.200000</td>\n",
       "    </tr>\n",
       "    <tr>\n",
       "      <th>99.9%</th>\n",
       "      <td>837717.231180</td>\n",
       "      <td>30000.000000</td>\n",
       "      <td>2025537.038548</td>\n",
       "      <td>2677552.477500</td>\n",
       "    </tr>\n",
       "    <tr>\n",
       "      <th>99.99%</th>\n",
       "      <td>7723047.634101</td>\n",
       "      <td>196430.870624</td>\n",
       "      <td>65492708.576056</td>\n",
       "      <td>10502448.600000</td>\n",
       "    </tr>\n",
       "    <tr>\n",
       "      <th>99.999%</th>\n",
       "      <td>98249987.500000</td>\n",
       "      <td>862217.800000</td>\n",
       "      <td>511199998.700000</td>\n",
       "      <td>14900958.400000</td>\n",
       "    </tr>\n",
       "    <tr>\n",
       "      <th>max</th>\n",
       "      <td>10999999991.700001</td>\n",
       "      <td>247888748.800000</td>\n",
       "      <td>10999999991.700001</td>\n",
       "      <td>523998448.400000</td>\n",
       "    </tr>\n",
       "  </tbody>\n",
       "</table>\n",
       "</div>"
      ],
      "text/plain": [
       "           mto_total_Soles2  mto_total_Soles2    mto_total_Soles2  \\\n",
       "count       35003423.000000  190291958.000000      2312743.000000   \n",
       "mean            4537.606765        131.792959        22420.429883   \n",
       "std          2194278.453770      24985.135827      8515063.326616   \n",
       "min                0.000000          0.000000            0.000000   \n",
       "1%                 5.000000          1.000000            1.600000   \n",
       "5%                 8.600000          3.100000            5.900000   \n",
       "10%               16.000000          5.000000           11.600000   \n",
       "25%               50.000000         10.200000           41.400000   \n",
       "50%              190.000000         33.500000          150.000000   \n",
       "75%              921.200000        100.000000          759.700000   \n",
       "85%             2052.000000        165.500000         2699.800000   \n",
       "90%             5087.700000        432.000000         5201.600000   \n",
       "99%            90054.231500       3819.262500       236901.787010   \n",
       "99.9%         837717.231180      30000.000000      2025537.038548   \n",
       "99.99%       7723047.634101     196430.870624     65492708.576056   \n",
       "99.999%     98249987.500000     862217.800000    511199998.700000   \n",
       "max      10999999991.700001  247888748.800000  10999999991.700001   \n",
       "\n",
       "         mto_total_Soles2  \n",
       "count       237818.000000  \n",
       "mean          6729.025235  \n",
       "std        1088290.575566  \n",
       "min              0.000000  \n",
       "1%               0.100000  \n",
       "5%               1.000000  \n",
       "10%              3.500000  \n",
       "25%             16.000000  \n",
       "50%             36.120000  \n",
       "75%            136.045000  \n",
       "85%            368.309000  \n",
       "90%            877.250000  \n",
       "99%         145838.200000  \n",
       "99.9%      2677552.477500  \n",
       "99.99%    10502448.600000  \n",
       "99.999%   14900958.400000  \n",
       "max      523998448.400000  "
      ]
     },
     "execution_count": 7,
     "metadata": {},
     "output_type": "execute_result"
    }
   ],
   "source": [
    "%%time\n",
    "# df1\n",
    "a1= df1[df1.cod_Cpe=='01']\n",
    "cpe01=a1['mto_total_Soles2'].describe(percentiles=[.01, .05, .10, .25, .5, .75, .85, .9, .99,.999,.9999,.99999]).apply(lambda x: format(x, 'f')).compute() ##filtro\n",
    "a3= df1[df1.cod_Cpe=='03']\n",
    "cpe03=a3['mto_total_Soles2'].describe(percentiles=[.01, .05, .10, .25, .5, .75, .85, .9, .99,.999,.9999,.99999]).apply(lambda x: format(x, 'f')).compute() ##filtro\n",
    "a7= df1[df1.cod_Cpe=='07']\n",
    "cpe07=a7['mto_total_Soles2'].describe(percentiles=[.01, .05, .10, .25, .5, .75, .85, .9, .99,.999,.9999,.99999]).apply(lambda x: format(x, 'f')).compute() ##filtro\n",
    "a8= df1[df1.cod_Cpe=='08']\n",
    "cpe08=a8['mto_total_Soles2'].describe(percentiles=[.01, .05, .10, .25, .5, .75, .85, .9, .99,.999,.9999,.99999]).apply(lambda x: format(x, 'f')).compute() ##filtro\n",
    "result1 = pd.concat([cpe01,cpe03,cpe07,cpe08], axis=1)\n",
    "result1 "
   ]
  },
  {
   "cell_type": "code",
   "execution_count": null,
   "id": "2b3c5cb1",
   "metadata": {},
   "outputs": [],
   "source": [
    "# df2\n",
    "a21= df2[df2.cod_Cpe=='01']\n",
    "cpe201=a21['mto_total_Soles2'].describe(percentiles=[.01, .05, .10, .25, .5, .75, .85, .9, .99,.999,.9999,.99999]).apply(lambda x: format(x, 'f')).compute() ##filtro\n",
    "a23= df2[df2.cod_Cpe=='03']\n",
    "cpe203=a23['mto_total_Soles2'].describe(percentiles=[.01, .05, .10, .25, .5, .75, .85, .9, .99,.999,.9999,.99999]).apply(lambda x: format(x, 'f')).compute() ##filtro\n",
    "a27= df2[df2.cod_Cpe=='07']\n",
    "cpe207=a27['mto_total_Soles2'].describe(percentiles=[.01, .05, .10, .25, .5, .75, .85, .9, .99,.999,.9999,.99999]).apply(lambda x: format(x, 'f')).compute() ##filtro\n",
    "a28= df2[df2.cod_Cpe=='08']\n",
    "cpe208=a28['mto_total_Soles2'].describe(percentiles=[.01, .05, .10, .25, .5, .75, .85, .9, .99,.999,.9999,.99999]).apply(lambda x: format(x, 'f')).compute() ##filtro\n",
    "result2 = pd.concat([cpe201,cpe203,cpe207,cpe208], axis=1)\n",
    "result2 #14.10-14.18"
   ]
  },
  {
   "cell_type": "markdown",
   "id": "e08e4cf0",
   "metadata": {},
   "source": [
    "### Histograms/charts"
   ]
  },
  {
   "cell_type": "code",
   "execution_count": 8,
   "id": "691eac3e",
   "metadata": {},
   "outputs": [
    {
     "data": {},
     "metadata": {},
     "output_type": "display_data"
    },
    {
     "data": {
      "application/vnd.holoviews_exec.v0+json": "",
      "text/html": [
       "<div id='1002'>\n",
       "  <div class=\"bk-root\" id=\"2371d8c7-a8bd-4a12-bb29-b2d05e16a758\" data-root-id=\"1002\"></div>\n",
       "</div>\n",
       "<script type=\"application/javascript\">(function(root) {\n",
       "  function embed_document(root) {\n",
       "    var docs_json = {\"f8fab570-72ea-417e-af5b-e2420cd16eb9\":{\"defs\":[{\"extends\":null,\"module\":null,\"name\":\"ReactiveHTML1\",\"overrides\":[],\"properties\":[]},{\"extends\":null,\"module\":null,\"name\":\"FlexBox1\",\"overrides\":[],\"properties\":[{\"default\":\"flex-start\",\"kind\":null,\"name\":\"align_content\"},{\"default\":\"flex-start\",\"kind\":null,\"name\":\"align_items\"},{\"default\":\"row\",\"kind\":null,\"name\":\"flex_direction\"},{\"default\":\"wrap\",\"kind\":null,\"name\":\"flex_wrap\"},{\"default\":\"flex-start\",\"kind\":null,\"name\":\"justify_content\"}]},{\"extends\":null,\"module\":null,\"name\":\"GridStack1\",\"overrides\":[],\"properties\":[{\"default\":\"warn\",\"kind\":null,\"name\":\"mode\"},{\"default\":null,\"kind\":null,\"name\":\"ncols\"},{\"default\":null,\"kind\":null,\"name\":\"nrows\"},{\"default\":true,\"kind\":null,\"name\":\"allow_resize\"},{\"default\":true,\"kind\":null,\"name\":\"allow_drag\"},{\"default\":[],\"kind\":null,\"name\":\"state\"}]},{\"extends\":null,\"module\":null,\"name\":\"click1\",\"overrides\":[],\"properties\":[{\"default\":\"\",\"kind\":null,\"name\":\"terminal_output\"},{\"default\":\"\",\"kind\":null,\"name\":\"debug_name\"},{\"default\":0,\"kind\":null,\"name\":\"clears\"}]},{\"extends\":null,\"module\":null,\"name\":\"NotificationAreaBase1\",\"overrides\":[],\"properties\":[{\"default\":\"bottom-right\",\"kind\":null,\"name\":\"position\"},{\"default\":0,\"kind\":null,\"name\":\"_clear\"}]},{\"extends\":null,\"module\":null,\"name\":\"NotificationArea1\",\"overrides\":[],\"properties\":[{\"default\":[],\"kind\":null,\"name\":\"notifications\"},{\"default\":\"bottom-right\",\"kind\":null,\"name\":\"position\"},{\"default\":0,\"kind\":null,\"name\":\"_clear\"},{\"default\":[{\"background\":\"#ffc107\",\"icon\":{\"className\":\"fas fa-exclamation-triangle\",\"color\":\"white\",\"tagName\":\"i\"},\"type\":\"warning\"},{\"background\":\"#007bff\",\"icon\":{\"className\":\"fas fa-info-circle\",\"color\":\"white\",\"tagName\":\"i\"},\"type\":\"info\"}],\"kind\":null,\"name\":\"types\"}]},{\"extends\":null,\"module\":null,\"name\":\"Notification\",\"overrides\":[],\"properties\":[{\"default\":null,\"kind\":null,\"name\":\"background\"},{\"default\":3000,\"kind\":null,\"name\":\"duration\"},{\"default\":null,\"kind\":null,\"name\":\"icon\"},{\"default\":\"\",\"kind\":null,\"name\":\"message\"},{\"default\":null,\"kind\":null,\"name\":\"notification_type\"},{\"default\":false,\"kind\":null,\"name\":\"_destroyed\"}]},{\"extends\":null,\"module\":null,\"name\":\"TemplateActions1\",\"overrides\":[],\"properties\":[{\"default\":0,\"kind\":null,\"name\":\"open_modal\"},{\"default\":0,\"kind\":null,\"name\":\"close_modal\"}]},{\"extends\":null,\"module\":null,\"name\":\"MaterialTemplateActions1\",\"overrides\":[],\"properties\":[{\"default\":0,\"kind\":null,\"name\":\"open_modal\"},{\"default\":0,\"kind\":null,\"name\":\"close_modal\"}]}],\"roots\":{\"references\":[{\"attributes\":{},\"id\":\"1059\",\"type\":\"UnionRenderers\"},{\"attributes\":{},\"id\":\"1012\",\"type\":\"LinearScale\"},{\"attributes\":{\"bottom\":{\"value\":0},\"fill_color\":{\"value\":\"#30a2da\"},\"hatch_color\":{\"value\":\"#30a2da\"},\"left\":{\"field\":\"left\"},\"right\":{\"field\":\"right\"},\"top\":{\"field\":\"top\"}},\"id\":\"1040\",\"type\":\"Quad\"},{\"attributes\":{\"axis_label\":\"\",\"coordinates\":null,\"formatter\":{\"id\":\"1050\"},\"group\":null,\"major_label_policy\":{\"id\":\"1051\"},\"ticker\":{\"id\":\"1021\"}},\"id\":\"1020\",\"type\":\"LinearAxis\"},{\"attributes\":{\"overlay\":{\"id\":\"1029\"}},\"id\":\"1027\",\"type\":\"BoxZoomTool\"},{\"attributes\":{},\"id\":\"1050\",\"type\":\"BasicTickFormatter\"},{\"attributes\":{},\"id\":\"1017\",\"type\":\"BasicTicker\"},{\"attributes\":{\"margin\":[5,5,5,5],\"name\":\"HSpacer00867\",\"sizing_mode\":\"stretch_width\"},\"id\":\"1062\",\"type\":\"Spacer\"},{\"attributes\":{\"axis\":{\"id\":\"1016\"},\"coordinates\":null,\"grid_line_color\":null,\"group\":null,\"ticker\":null},\"id\":\"1019\",\"type\":\"Grid\"},{\"attributes\":{},\"id\":\"1051\",\"type\":\"AllLabels\"},{\"attributes\":{\"source\":{\"id\":\"1037\"}},\"id\":\"1044\",\"type\":\"CDSView\"},{\"attributes\":{},\"id\":\"1038\",\"type\":\"Selection\"},{\"attributes\":{},\"id\":\"1025\",\"type\":\"PanTool\"},{\"attributes\":{\"axis_label\":\"mto_total_Soles2\",\"coordinates\":null,\"formatter\":{\"id\":\"1047\"},\"group\":null,\"major_label_policy\":{\"id\":\"1048\"},\"ticker\":{\"id\":\"1017\"}},\"id\":\"1016\",\"type\":\"LinearAxis\"},{\"attributes\":{\"axis\":{\"id\":\"1020\"},\"coordinates\":null,\"dimension\":1,\"grid_line_color\":null,\"group\":null,\"ticker\":null},\"id\":\"1023\",\"type\":\"Grid\"},{\"attributes\":{},\"id\":\"1021\",\"type\":\"BasicTicker\"},{\"attributes\":{\"coordinates\":null,\"data_source\":{\"id\":\"1037\"},\"glyph\":{\"id\":\"1040\"},\"group\":null,\"hover_glyph\":null,\"muted_glyph\":{\"id\":\"1042\"},\"nonselection_glyph\":{\"id\":\"1041\"},\"selection_glyph\":{\"id\":\"1045\"},\"view\":{\"id\":\"1044\"}},\"id\":\"1043\",\"type\":\"GlyphRenderer\"},{\"attributes\":{\"callback\":null,\"renderers\":[{\"id\":\"1043\"}],\"tags\":[\"hv_created\"],\"tooltips\":[[\"mto_total_Soles2\",\"@{mto_total_Soles2}\"],[\"Count\",\"@{mto_total_Soles2_count}\"]]},\"id\":\"1006\",\"type\":\"HoverTool\"},{\"attributes\":{\"bottom\":{\"value\":0},\"fill_alpha\":{\"value\":0.1},\"fill_color\":{\"value\":\"#30a2da\"},\"hatch_alpha\":{\"value\":0.1},\"hatch_color\":{\"value\":\"#30a2da\"},\"left\":{\"field\":\"left\"},\"line_alpha\":{\"value\":0.1},\"right\":{\"field\":\"right\"},\"top\":{\"field\":\"top\"}},\"id\":\"1041\",\"type\":\"Quad\"},{\"attributes\":{\"coordinates\":null,\"group\":null,\"text_color\":\"black\",\"text_font_size\":\"12pt\"},\"id\":\"1008\",\"type\":\"Title\"},{\"attributes\":{},\"id\":\"1047\",\"type\":\"BasicTickFormatter\"},{\"attributes\":{},\"id\":\"1024\",\"type\":\"SaveTool\"},{\"attributes\":{\"children\":[{\"id\":\"1003\"},{\"id\":\"1007\"},{\"id\":\"1062\"}],\"margin\":[0,0,0,0],\"name\":\"Row00862\",\"tags\":[\"embedded\"]},\"id\":\"1002\",\"type\":\"Row\"},{\"attributes\":{\"end\":11471428562.772858,\"reset_end\":11471428562.772858,\"reset_start\":-471428571.0728572,\"start\":-471428571.0728572,\"tags\":[[[\"mto_total_Soles2\",\"mto_total_Soles2\",null]]]},\"id\":\"1004\",\"type\":\"Range1d\"},{\"attributes\":{\"tools\":[{\"id\":\"1006\"},{\"id\":\"1024\"},{\"id\":\"1025\"},{\"id\":\"1026\"},{\"id\":\"1027\"},{\"id\":\"1028\"}]},\"id\":\"1030\",\"type\":\"Toolbar\"},{\"attributes\":{\"end\":38503751.0,\"reset_end\":38503751.0,\"reset_start\":0.0,\"tags\":[[[\"mto_total_Soles2_count\",\"Count\",null]]]},\"id\":\"1005\",\"type\":\"Range1d\"},{\"attributes\":{\"bottom_units\":\"screen\",\"coordinates\":null,\"fill_alpha\":0.5,\"fill_color\":\"lightgrey\",\"group\":null,\"left_units\":\"screen\",\"level\":\"overlay\",\"line_alpha\":1.0,\"line_color\":\"black\",\"line_dash\":[4,4],\"line_width\":2,\"right_units\":\"screen\",\"syncable\":false,\"top_units\":\"screen\"},\"id\":\"1029\",\"type\":\"BoxAnnotation\"},{\"attributes\":{\"margin\":[5,5,5,5],\"name\":\"HSpacer00866\",\"sizing_mode\":\"stretch_width\"},\"id\":\"1003\",\"type\":\"Spacer\"},{\"attributes\":{\"data\":{\"left\":{\"__ndarray__\":\"AAAAAAAAAABI4cq/KmTAQUjhyr8qZNBB7FGwH0CW2EFI4cq/KmTgQZqZvW81feRB7FGwH0CW6EE+CqPPSq/sQUjhyr8qZPBBcT3EF7Bw8kGamb1vNX30QcP1tse6ifZB7FGwH0CW+EEVrql3xaL6QT4Ko89Kr/xBZ2acJ9C7/kFI4cq/KmQAQlyPx2ttagFCcT3EF7BwAkKG68DD8nYDQg==\",\"dtype\":\"float64\",\"order\":\"little\",\"shape\":[20]},\"mto_total_Soles2\":{\"__ndarray__\":\"SOHKvypksEHsUbAfQJbIQZqZvW81fdRBPgqjz0qv3EFxPcQXsHDiQcP1tse6ieZBFa6pd8Wi6kFnZpwn0LvuQVyPx2ttavFBhuvAw/J280GuR7obeIP1Qdijs3P9j/dBAACty4Kc+UEqXKYjCKn7QVK4n3uNtf1BfBSZ0xLC/0FSOMkVTOcAQmbmxcGO7QFCfJTCbdHzAkKQQr8ZFPoDQg==\",\"dtype\":\"float64\",\"order\":\"little\",\"shape\":[20]},\"mto_total_Soles2_count\":[35003410,7,0,2,1,1,0,1,0,0,0,0,0,0,0,0,0,0,0,1],\"right\":{\"__ndarray__\":\"SOHKvypkwEFI4cq/KmTQQexRsB9AlthBSOHKvypk4EGamb1vNX3kQexRsB9AluhBPgqjz0qv7EFI4cq/KmTwQXE9xBewcPJBmpm9bzV99EHD9bbHuon2QexRsB9AlvhBFa6pd8Wi+kE+CqPPSq/8QWdmnCfQu/5BSOHKvypkAEJcj8drbWoBQnE9xBewcAJChuvAw/J2A0Kamb1vNX0EQg==\",\"dtype\":\"float64\",\"order\":\"little\",\"shape\":[20]},\"top\":[35003410,7,0,2,1,1,0,1,0,0,0,0,0,0,0,0,0,0,0,1]},\"selected\":{\"id\":\"1038\"},\"selection_policy\":{\"id\":\"1059\"}},\"id\":\"1037\",\"type\":\"ColumnDataSource\"},{\"attributes\":{},\"id\":\"1048\",\"type\":\"AllLabels\"},{\"attributes\":{\"bottom\":{\"value\":0},\"fill_alpha\":{\"value\":1.0},\"fill_color\":{\"value\":\"#30a2da\"},\"hatch_alpha\":{\"value\":1.0},\"hatch_color\":{\"value\":\"#30a2da\"},\"hatch_scale\":{\"value\":12.0},\"hatch_weight\":{\"value\":1.0},\"left\":{\"field\":\"left\"},\"line_alpha\":{\"value\":1.0},\"line_cap\":{\"value\":\"butt\"},\"line_color\":{\"value\":\"black\"},\"line_dash\":{\"value\":[]},\"line_dash_offset\":{\"value\":0},\"line_join\":{\"value\":\"bevel\"},\"line_width\":{\"value\":1},\"right\":{\"field\":\"right\"},\"top\":{\"field\":\"top\"}},\"id\":\"1045\",\"type\":\"Quad\"},{\"attributes\":{\"bottom\":{\"value\":0},\"fill_alpha\":{\"value\":0.2},\"fill_color\":{\"value\":\"#30a2da\"},\"hatch_alpha\":{\"value\":0.2},\"hatch_color\":{\"value\":\"#30a2da\"},\"left\":{\"field\":\"left\"},\"line_alpha\":{\"value\":0.2},\"right\":{\"field\":\"right\"},\"top\":{\"field\":\"top\"}},\"id\":\"1042\",\"type\":\"Quad\"},{\"attributes\":{},\"id\":\"1026\",\"type\":\"WheelZoomTool\"},{\"attributes\":{},\"id\":\"1014\",\"type\":\"LinearScale\"},{\"attributes\":{},\"id\":\"1028\",\"type\":\"ResetTool\"},{\"attributes\":{\"below\":[{\"id\":\"1016\"}],\"center\":[{\"id\":\"1019\"},{\"id\":\"1023\"}],\"height\":300,\"left\":[{\"id\":\"1020\"}],\"margin\":[5,5,5,5],\"min_border_bottom\":10,\"min_border_left\":10,\"min_border_right\":10,\"min_border_top\":10,\"renderers\":[{\"id\":\"1043\"}],\"sizing_mode\":\"fixed\",\"title\":{\"id\":\"1008\"},\"toolbar\":{\"id\":\"1030\"},\"width\":700,\"x_range\":{\"id\":\"1004\"},\"x_scale\":{\"id\":\"1012\"},\"y_range\":{\"id\":\"1005\"},\"y_scale\":{\"id\":\"1014\"}},\"id\":\"1007\",\"subtype\":\"Figure\",\"type\":\"Plot\"}],\"root_ids\":[\"1002\"]},\"title\":\"Bokeh Application\",\"version\":\"2.4.3\"}};\n",
       "    var render_items = [{\"docid\":\"f8fab570-72ea-417e-af5b-e2420cd16eb9\",\"root_ids\":[\"1002\"],\"roots\":{\"1002\":\"2371d8c7-a8bd-4a12-bb29-b2d05e16a758\"}}];\n",
       "    root.Bokeh.embed.embed_items_notebook(docs_json, render_items);\n",
       "  }\n",
       "  if (root.Bokeh !== undefined && root.Bokeh.Panel !== undefined) {\n",
       "    embed_document(root);\n",
       "  } else {\n",
       "    var attempts = 0;\n",
       "    var timer = setInterval(function(root) {\n",
       "      if (root.Bokeh !== undefined && root.Bokeh.Panel !== undefined) {\n",
       "        clearInterval(timer);\n",
       "        embed_document(root);\n",
       "      } else if (document.readyState == \"complete\") {\n",
       "        attempts++;\n",
       "        if (attempts > 200) {\n",
       "          clearInterval(timer);\n",
       "          console.log(\"Bokeh: ERROR: Unable to run BokehJS code because BokehJS library is missing\");\n",
       "        }\n",
       "      }\n",
       "    }, 25, root)\n",
       "  }\n",
       "})(window);</script>"
      ],
      "text/plain": [
       ":Histogram   [mto_total_Soles2]   (mto_total_Soles2_count)"
      ]
     },
     "execution_count": 8,
     "metadata": {
      "application/vnd.holoviews_exec.v0+json": {
       "id": "1002"
      }
     },
     "output_type": "execute_result"
    }
   ],
   "source": [
    "a1.hvplot.hist(y='mto_total_Soles2', bins=20)"
   ]
  },
  {
   "cell_type": "code",
   "execution_count": 9,
   "id": "c9875e9d",
   "metadata": {},
   "outputs": [
    {
     "data": {},
     "metadata": {},
     "output_type": "display_data"
    },
    {
     "data": {
      "application/vnd.holoviews_exec.v0+json": "",
      "text/html": [
       "<div id='1114'>\n",
       "  <div class=\"bk-root\" id=\"ccc990fd-33db-41f0-bee2-a46627dcf4a9\" data-root-id=\"1114\"></div>\n",
       "</div>\n",
       "<script type=\"application/javascript\">(function(root) {\n",
       "  function embed_document(root) {\n",
       "    var docs_json = {\"9907d856-28e2-4a85-beb5-7fd1ab8abf20\":{\"defs\":[{\"extends\":null,\"module\":null,\"name\":\"ReactiveHTML1\",\"overrides\":[],\"properties\":[]},{\"extends\":null,\"module\":null,\"name\":\"FlexBox1\",\"overrides\":[],\"properties\":[{\"default\":\"flex-start\",\"kind\":null,\"name\":\"align_content\"},{\"default\":\"flex-start\",\"kind\":null,\"name\":\"align_items\"},{\"default\":\"row\",\"kind\":null,\"name\":\"flex_direction\"},{\"default\":\"wrap\",\"kind\":null,\"name\":\"flex_wrap\"},{\"default\":\"flex-start\",\"kind\":null,\"name\":\"justify_content\"}]},{\"extends\":null,\"module\":null,\"name\":\"GridStack1\",\"overrides\":[],\"properties\":[{\"default\":\"warn\",\"kind\":null,\"name\":\"mode\"},{\"default\":null,\"kind\":null,\"name\":\"ncols\"},{\"default\":null,\"kind\":null,\"name\":\"nrows\"},{\"default\":true,\"kind\":null,\"name\":\"allow_resize\"},{\"default\":true,\"kind\":null,\"name\":\"allow_drag\"},{\"default\":[],\"kind\":null,\"name\":\"state\"}]},{\"extends\":null,\"module\":null,\"name\":\"click1\",\"overrides\":[],\"properties\":[{\"default\":\"\",\"kind\":null,\"name\":\"terminal_output\"},{\"default\":\"\",\"kind\":null,\"name\":\"debug_name\"},{\"default\":0,\"kind\":null,\"name\":\"clears\"}]},{\"extends\":null,\"module\":null,\"name\":\"NotificationAreaBase1\",\"overrides\":[],\"properties\":[{\"default\":\"bottom-right\",\"kind\":null,\"name\":\"position\"},{\"default\":0,\"kind\":null,\"name\":\"_clear\"}]},{\"extends\":null,\"module\":null,\"name\":\"NotificationArea1\",\"overrides\":[],\"properties\":[{\"default\":[],\"kind\":null,\"name\":\"notifications\"},{\"default\":\"bottom-right\",\"kind\":null,\"name\":\"position\"},{\"default\":0,\"kind\":null,\"name\":\"_clear\"},{\"default\":[{\"background\":\"#ffc107\",\"icon\":{\"className\":\"fas fa-exclamation-triangle\",\"color\":\"white\",\"tagName\":\"i\"},\"type\":\"warning\"},{\"background\":\"#007bff\",\"icon\":{\"className\":\"fas fa-info-circle\",\"color\":\"white\",\"tagName\":\"i\"},\"type\":\"info\"}],\"kind\":null,\"name\":\"types\"}]},{\"extends\":null,\"module\":null,\"name\":\"Notification\",\"overrides\":[],\"properties\":[{\"default\":null,\"kind\":null,\"name\":\"background\"},{\"default\":3000,\"kind\":null,\"name\":\"duration\"},{\"default\":null,\"kind\":null,\"name\":\"icon\"},{\"default\":\"\",\"kind\":null,\"name\":\"message\"},{\"default\":null,\"kind\":null,\"name\":\"notification_type\"},{\"default\":false,\"kind\":null,\"name\":\"_destroyed\"}]},{\"extends\":null,\"module\":null,\"name\":\"TemplateActions1\",\"overrides\":[],\"properties\":[{\"default\":0,\"kind\":null,\"name\":\"open_modal\"},{\"default\":0,\"kind\":null,\"name\":\"close_modal\"}]},{\"extends\":null,\"module\":null,\"name\":\"MaterialTemplateActions1\",\"overrides\":[],\"properties\":[{\"default\":0,\"kind\":null,\"name\":\"open_modal\"},{\"default\":0,\"kind\":null,\"name\":\"close_modal\"}]}],\"roots\":{\"references\":[{\"attributes\":{\"bottom\":{\"value\":0},\"fill_alpha\":{\"value\":0.2},\"fill_color\":{\"value\":\"#30a2da\"},\"hatch_alpha\":{\"value\":0.2},\"hatch_color\":{\"value\":\"#30a2da\"},\"left\":{\"field\":\"left\"},\"line_alpha\":{\"value\":0.2},\"right\":{\"field\":\"right\"},\"top\":{\"field\":\"top\"}},\"id\":\"1154\",\"type\":\"Quad\"},{\"attributes\":{\"coordinates\":null,\"group\":null,\"text_color\":\"black\",\"text_font_size\":\"12pt\"},\"id\":\"1120\",\"type\":\"Title\"},{\"attributes\":{\"overlay\":{\"id\":\"1141\"}},\"id\":\"1139\",\"type\":\"BoxZoomTool\"},{\"attributes\":{\"tools\":[{\"id\":\"1118\"},{\"id\":\"1136\"},{\"id\":\"1137\"},{\"id\":\"1138\"},{\"id\":\"1139\"},{\"id\":\"1140\"}]},\"id\":\"1142\",\"type\":\"Toolbar\"},{\"attributes\":{\"axis\":{\"id\":\"1132\"},\"coordinates\":null,\"dimension\":1,\"grid_line_color\":null,\"group\":null,\"ticker\":null},\"id\":\"1135\",\"type\":\"Grid\"},{\"attributes\":{\"callback\":null,\"renderers\":[{\"id\":\"1155\"}],\"tags\":[\"hv_created\"],\"tooltips\":[[\"mto_total_Soles2\",\"@{mto_total_Soles2}\"],[\"Count\",\"@{mto_total_Soles2_count}\"]]},\"id\":\"1118\",\"type\":\"HoverTool\"},{\"attributes\":{\"end\":3092669.2714285715,\"reset_end\":3092669.2714285715,\"reset_start\":745047.7285714286,\"start\":745047.7285714286,\"tags\":[[[\"mto_total_Soles2\",\"mto_total_Soles2\",null]]]},\"id\":\"1116\",\"type\":\"Range1d\"},{\"attributes\":{},\"id\":\"1136\",\"type\":\"SaveTool\"},{\"attributes\":{\"bottom\":{\"value\":0},\"fill_alpha\":{\"value\":0.1},\"fill_color\":{\"value\":\"#30a2da\"},\"hatch_alpha\":{\"value\":0.1},\"hatch_color\":{\"value\":\"#30a2da\"},\"left\":{\"field\":\"left\"},\"line_alpha\":{\"value\":0.1},\"right\":{\"field\":\"right\"},\"top\":{\"field\":\"top\"}},\"id\":\"1153\",\"type\":\"Quad\"},{\"attributes\":{},\"id\":\"1160\",\"type\":\"AllLabels\"},{\"attributes\":{\"below\":[{\"id\":\"1128\"}],\"center\":[{\"id\":\"1131\"},{\"id\":\"1135\"}],\"height\":300,\"left\":[{\"id\":\"1132\"}],\"margin\":[5,5,5,5],\"min_border_bottom\":10,\"min_border_left\":10,\"min_border_right\":10,\"min_border_top\":10,\"renderers\":[{\"id\":\"1155\"}],\"sizing_mode\":\"fixed\",\"title\":{\"id\":\"1120\"},\"toolbar\":{\"id\":\"1142\"},\"width\":700,\"x_range\":{\"id\":\"1116\"},\"x_scale\":{\"id\":\"1124\"},\"y_range\":{\"id\":\"1117\"},\"y_scale\":{\"id\":\"1126\"}},\"id\":\"1119\",\"subtype\":\"Figure\",\"type\":\"Plot\"},{\"attributes\":{\"coordinates\":null,\"data_source\":{\"id\":\"1149\"},\"glyph\":{\"id\":\"1152\"},\"group\":null,\"hover_glyph\":null,\"muted_glyph\":{\"id\":\"1154\"},\"nonselection_glyph\":{\"id\":\"1153\"},\"selection_glyph\":{\"id\":\"1157\"},\"view\":{\"id\":\"1156\"}},\"id\":\"1155\",\"type\":\"GlyphRenderer\"},{\"attributes\":{\"data\":{\"left\":{\"__ndarray__\":\"AAAAAKqQKUHNzMxMTt0sQc3MzEz5FDBBMzMzc0u7MUGamZmZnWEzQQAAAMDvBzVBZmZm5kGuNkHMzMwMlFQ4QTMzMzPm+jlBmpmZWTihO0EAAACAikc9QWZmZqbc7T5BZmZmZhdKQEGamZl5QB1BQczMzIxp8EFBAAAAoJLDQkEzMzOzu5ZDQWZmZsbkaURBmpmZ2Q09RUHMzMzsNhBGQQ==\",\"dtype\":\"float64\",\"order\":\"little\",\"shape\":[20]},\"mto_total_Soles2\":{\"__ndarray__\":\"ZmZmJvw2K0E0MzNzoIMuQQAAAGAi6DBBZmZmhnSOMkHNzMysxjQ0QTMzM9MY2zVBmZmZ+WqBN0EAAAAgvSc5QWZmZkYPzjpBzczMbGF0PEEzMzOTsxo+QZmZmbkFwT9BAAAA8KuzQEEzMzMD1YZBQWZmZhb+WUJBmpmZKSctQ0HMzMw8UABEQQAAAFB500RBMzMzY6KmRUFmZmZ2y3lGQQ==\",\"dtype\":\"float64\",\"order\":\"little\",\"shape\":[20]},\"mto_total_Soles2_count\":[1321,1087,754,730,554,417,409,308,312,241,245,198,178,164,152,157,140,136,130,131],\"right\":{\"__ndarray__\":\"zczMTE7dLEHNzMxM+RQwQTMzM3NLuzFBmpmZmZ1hM0EAAADA7wc1QWZmZuZBrjZBzMzMDJRUOEEzMzMz5vo5QZqZmVk4oTtBAAAAgIpHPUFmZmam3O0+QWZmZmYXSkBBmpmZeUAdQUHMzMyMafBBQQAAAKCSw0JBMzMzs7uWQ0FmZmbG5GlEQZqZmdkNPUVBzMzM7DYQRkEAAAAAYONGQQ==\",\"dtype\":\"float64\",\"order\":\"little\",\"shape\":[20]},\"top\":[1321,1087,754,730,554,417,409,308,312,241,245,198,178,164,152,157,140,136,130,131]},\"selected\":{\"id\":\"1150\"},\"selection_policy\":{\"id\":\"1171\"}},\"id\":\"1149\",\"type\":\"ColumnDataSource\"},{\"attributes\":{},\"id\":\"1138\",\"type\":\"WheelZoomTool\"},{\"attributes\":{},\"id\":\"1137\",\"type\":\"PanTool\"},{\"attributes\":{\"axis\":{\"id\":\"1128\"},\"coordinates\":null,\"grid_line_color\":null,\"group\":null,\"ticker\":null},\"id\":\"1131\",\"type\":\"Grid\"},{\"attributes\":{\"bottom\":{\"value\":0},\"fill_color\":{\"value\":\"#30a2da\"},\"hatch_color\":{\"value\":\"#30a2da\"},\"left\":{\"field\":\"left\"},\"right\":{\"field\":\"right\"},\"top\":{\"field\":\"top\"}},\"id\":\"1152\",\"type\":\"Quad\"},{\"attributes\":{\"axis_label\":\"\",\"coordinates\":null,\"formatter\":{\"id\":\"1162\"},\"group\":null,\"major_label_policy\":{\"id\":\"1163\"},\"ticker\":{\"id\":\"1133\"}},\"id\":\"1132\",\"type\":\"LinearAxis\"},{\"attributes\":{},\"id\":\"1163\",\"type\":\"AllLabels\"},{\"attributes\":{\"bottom\":{\"value\":0},\"fill_alpha\":{\"value\":1.0},\"fill_color\":{\"value\":\"#30a2da\"},\"hatch_alpha\":{\"value\":1.0},\"hatch_color\":{\"value\":\"#30a2da\"},\"hatch_scale\":{\"value\":12.0},\"hatch_weight\":{\"value\":1.0},\"left\":{\"field\":\"left\"},\"line_alpha\":{\"value\":1.0},\"line_cap\":{\"value\":\"butt\"},\"line_color\":{\"value\":\"black\"},\"line_dash\":{\"value\":[]},\"line_dash_offset\":{\"value\":0},\"line_join\":{\"value\":\"bevel\"},\"line_width\":{\"value\":1},\"right\":{\"field\":\"right\"},\"top\":{\"field\":\"top\"}},\"id\":\"1157\",\"type\":\"Quad\"},{\"attributes\":{},\"id\":\"1126\",\"type\":\"LinearScale\"},{\"attributes\":{},\"id\":\"1159\",\"type\":\"BasicTickFormatter\"},{\"attributes\":{},\"id\":\"1140\",\"type\":\"ResetTool\"},{\"attributes\":{\"children\":[{\"id\":\"1115\"},{\"id\":\"1119\"},{\"id\":\"1174\"}],\"margin\":[0,0,0,0],\"name\":\"Row00970\",\"tags\":[\"embedded\"]},\"id\":\"1114\",\"type\":\"Row\"},{\"attributes\":{},\"id\":\"1129\",\"type\":\"BasicTicker\"},{\"attributes\":{\"axis_label\":\"mto_total_Soles2\",\"coordinates\":null,\"formatter\":{\"id\":\"1159\"},\"group\":null,\"major_label_policy\":{\"id\":\"1160\"},\"ticker\":{\"id\":\"1129\"}},\"id\":\"1128\",\"type\":\"LinearAxis\"},{\"attributes\":{\"bottom_units\":\"screen\",\"coordinates\":null,\"fill_alpha\":0.5,\"fill_color\":\"lightgrey\",\"group\":null,\"left_units\":\"screen\",\"level\":\"overlay\",\"line_alpha\":1.0,\"line_color\":\"black\",\"line_dash\":[4,4],\"line_width\":2,\"right_units\":\"screen\",\"syncable\":false,\"top_units\":\"screen\"},\"id\":\"1141\",\"type\":\"BoxAnnotation\"},{\"attributes\":{\"margin\":[5,5,5,5],\"name\":\"HSpacer00974\",\"sizing_mode\":\"stretch_width\"},\"id\":\"1115\",\"type\":\"Spacer\"},{\"attributes\":{},\"id\":\"1171\",\"type\":\"UnionRenderers\"},{\"attributes\":{},\"id\":\"1124\",\"type\":\"LinearScale\"},{\"attributes\":{},\"id\":\"1162\",\"type\":\"BasicTickFormatter\"},{\"attributes\":{},\"id\":\"1133\",\"type\":\"BasicTicker\"},{\"attributes\":{\"source\":{\"id\":\"1149\"}},\"id\":\"1156\",\"type\":\"CDSView\"},{\"attributes\":{\"margin\":[5,5,5,5],\"name\":\"HSpacer00975\",\"sizing_mode\":\"stretch_width\"},\"id\":\"1174\",\"type\":\"Spacer\"},{\"attributes\":{},\"id\":\"1150\",\"type\":\"Selection\"},{\"attributes\":{\"end\":1440.1,\"reset_end\":1440.1,\"reset_start\":0.0,\"tags\":[[[\"mto_total_Soles2_count\",\"Count\",null]]]},\"id\":\"1117\",\"type\":\"Range1d\"}],\"root_ids\":[\"1114\"]},\"title\":\"Bokeh Application\",\"version\":\"2.4.3\"}};\n",
       "    var render_items = [{\"docid\":\"9907d856-28e2-4a85-beb5-7fd1ab8abf20\",\"root_ids\":[\"1114\"],\"roots\":{\"1114\":\"ccc990fd-33db-41f0-bee2-a46627dcf4a9\"}}];\n",
       "    root.Bokeh.embed.embed_items_notebook(docs_json, render_items);\n",
       "  }\n",
       "  if (root.Bokeh !== undefined && root.Bokeh.Panel !== undefined) {\n",
       "    embed_document(root);\n",
       "  } else {\n",
       "    var attempts = 0;\n",
       "    var timer = setInterval(function(root) {\n",
       "      if (root.Bokeh !== undefined && root.Bokeh.Panel !== undefined) {\n",
       "        clearInterval(timer);\n",
       "        embed_document(root);\n",
       "      } else if (document.readyState == \"complete\") {\n",
       "        attempts++;\n",
       "        if (attempts > 200) {\n",
       "          clearInterval(timer);\n",
       "          console.log(\"Bokeh: ERROR: Unable to run BokehJS code because BokehJS library is missing\");\n",
       "        }\n",
       "      }\n",
       "    }, 25, root)\n",
       "  }\n",
       "})(window);</script>"
      ],
      "text/plain": [
       ":Histogram   [mto_total_Soles2]   (mto_total_Soles2_count)"
      ]
     },
     "execution_count": 9,
     "metadata": {
      "application/vnd.holoviews_exec.v0+json": {
       "id": "1114"
      }
     },
     "output_type": "execute_result"
    }
   ],
   "source": [
    "a1.hvplot.hist(y='mto_total_Soles2', bins=20, bin_range=(0,6000))\n",
    "a1.hvplot.hist(y='mto_total_Soles2', bins=20, bin_range=(6400000, 10999999995))\n",
    "a1.hvplot.hist(y='mto_total_Soles2', bins=20, bin_range=(837717, 3000000))   "
   ]
  },
  {
   "cell_type": "code",
   "execution_count": 184,
   "id": "f39c7fbe",
   "metadata": {},
   "outputs": [
    {
     "data": {},
     "metadata": {},
     "output_type": "display_data"
    },
    {
     "data": {
      "application/vnd.holoviews_exec.v0+json": "",
      "text/html": [
       "<div id='5895'>\n",
       "  <div class=\"bk-root\" id=\"a7282535-d102-4439-9457-cfaf9d350ef9\" data-root-id=\"5895\"></div>\n",
       "</div>\n",
       "<script type=\"application/javascript\">(function(root) {\n",
       "  function embed_document(root) {\n",
       "    var docs_json = {\"71163fc0-8c96-438b-945d-e3f89856a157\":{\"defs\":[{\"extends\":null,\"module\":null,\"name\":\"ReactiveHTML1\",\"overrides\":[],\"properties\":[]},{\"extends\":null,\"module\":null,\"name\":\"FlexBox1\",\"overrides\":[],\"properties\":[{\"default\":\"flex-start\",\"kind\":null,\"name\":\"align_content\"},{\"default\":\"flex-start\",\"kind\":null,\"name\":\"align_items\"},{\"default\":\"row\",\"kind\":null,\"name\":\"flex_direction\"},{\"default\":\"wrap\",\"kind\":null,\"name\":\"flex_wrap\"},{\"default\":\"flex-start\",\"kind\":null,\"name\":\"justify_content\"}]},{\"extends\":null,\"module\":null,\"name\":\"GridStack1\",\"overrides\":[],\"properties\":[{\"default\":\"warn\",\"kind\":null,\"name\":\"mode\"},{\"default\":null,\"kind\":null,\"name\":\"ncols\"},{\"default\":null,\"kind\":null,\"name\":\"nrows\"},{\"default\":true,\"kind\":null,\"name\":\"allow_resize\"},{\"default\":true,\"kind\":null,\"name\":\"allow_drag\"},{\"default\":[],\"kind\":null,\"name\":\"state\"}]},{\"extends\":null,\"module\":null,\"name\":\"click1\",\"overrides\":[],\"properties\":[{\"default\":\"\",\"kind\":null,\"name\":\"terminal_output\"},{\"default\":\"\",\"kind\":null,\"name\":\"debug_name\"},{\"default\":0,\"kind\":null,\"name\":\"clears\"}]},{\"extends\":null,\"module\":null,\"name\":\"NotificationAreaBase1\",\"overrides\":[],\"properties\":[{\"default\":\"bottom-right\",\"kind\":null,\"name\":\"position\"},{\"default\":0,\"kind\":null,\"name\":\"_clear\"}]},{\"extends\":null,\"module\":null,\"name\":\"NotificationArea1\",\"overrides\":[],\"properties\":[{\"default\":[],\"kind\":null,\"name\":\"notifications\"},{\"default\":\"bottom-right\",\"kind\":null,\"name\":\"position\"},{\"default\":0,\"kind\":null,\"name\":\"_clear\"},{\"default\":[{\"background\":\"#ffc107\",\"icon\":{\"className\":\"fas fa-exclamation-triangle\",\"color\":\"white\",\"tagName\":\"i\"},\"type\":\"warning\"},{\"background\":\"#007bff\",\"icon\":{\"className\":\"fas fa-info-circle\",\"color\":\"white\",\"tagName\":\"i\"},\"type\":\"info\"}],\"kind\":null,\"name\":\"types\"}]},{\"extends\":null,\"module\":null,\"name\":\"Notification\",\"overrides\":[],\"properties\":[{\"default\":null,\"kind\":null,\"name\":\"background\"},{\"default\":3000,\"kind\":null,\"name\":\"duration\"},{\"default\":null,\"kind\":null,\"name\":\"icon\"},{\"default\":\"\",\"kind\":null,\"name\":\"message\"},{\"default\":null,\"kind\":null,\"name\":\"notification_type\"},{\"default\":false,\"kind\":null,\"name\":\"_destroyed\"}]},{\"extends\":null,\"module\":null,\"name\":\"TemplateActions1\",\"overrides\":[],\"properties\":[{\"default\":0,\"kind\":null,\"name\":\"open_modal\"},{\"default\":0,\"kind\":null,\"name\":\"close_modal\"}]},{\"extends\":null,\"module\":null,\"name\":\"MaterialTemplateActions1\",\"overrides\":[],\"properties\":[{\"default\":0,\"kind\":null,\"name\":\"open_modal\"},{\"default\":0,\"kind\":null,\"name\":\"close_modal\"}]}],\"roots\":{\"references\":[{\"attributes\":{\"axis_label\":\"\",\"coordinates\":null,\"formatter\":{\"id\":\"5943\"},\"group\":null,\"major_label_policy\":{\"id\":\"5944\"},\"ticker\":{\"id\":\"5914\"}},\"id\":\"5913\",\"type\":\"LinearAxis\"},{\"attributes\":{\"coordinates\":null,\"data_source\":{\"id\":\"5930\"},\"glyph\":{\"id\":\"5933\"},\"group\":null,\"hover_glyph\":null,\"muted_glyph\":{\"id\":\"5935\"},\"nonselection_glyph\":{\"id\":\"5934\"},\"selection_glyph\":{\"id\":\"5938\"},\"view\":{\"id\":\"5937\"}},\"id\":\"5936\",\"type\":\"GlyphRenderer\"},{\"attributes\":{},\"id\":\"5944\",\"type\":\"AllLabels\"},{\"attributes\":{\"bottom\":{\"value\":0},\"fill_alpha\":{\"value\":0.1},\"fill_color\":{\"value\":\"#30a2da\"},\"hatch_alpha\":{\"value\":0.1},\"hatch_color\":{\"value\":\"#30a2da\"},\"left\":{\"field\":\"left\"},\"line_alpha\":{\"value\":0.1},\"right\":{\"field\":\"right\"},\"top\":{\"field\":\"top\"}},\"id\":\"5934\",\"type\":\"Quad\"},{\"attributes\":{\"margin\":[5,5,5,5],\"name\":\"HSpacer05357\",\"sizing_mode\":\"stretch_width\"},\"id\":\"5896\",\"type\":\"Spacer\"},{\"attributes\":{},\"id\":\"5952\",\"type\":\"UnionRenderers\"},{\"attributes\":{},\"id\":\"5910\",\"type\":\"BasicTicker\"},{\"attributes\":{},\"id\":\"5919\",\"type\":\"WheelZoomTool\"},{\"attributes\":{},\"id\":\"5941\",\"type\":\"AllLabels\"},{\"attributes\":{\"margin\":[5,5,5,5],\"name\":\"HSpacer05358\",\"sizing_mode\":\"stretch_width\"},\"id\":\"5955\",\"type\":\"Spacer\"},{\"attributes\":{},\"id\":\"5905\",\"type\":\"LinearScale\"},{\"attributes\":{\"callback\":null,\"renderers\":[{\"id\":\"5936\"}],\"tags\":[\"hv_created\"],\"tooltips\":[[\"mto_total_Soles2\",\"@{mto_total_Soles2}\"],[\"Count\",\"@{mto_total_Soles2_count}\"]]},\"id\":\"5899\",\"type\":\"HoverTool\"},{\"attributes\":{},\"id\":\"5917\",\"type\":\"SaveTool\"},{\"attributes\":{\"source\":{\"id\":\"5930\"}},\"id\":\"5937\",\"type\":\"CDSView\"},{\"attributes\":{},\"id\":\"5921\",\"type\":\"ResetTool\"},{\"attributes\":{\"end\":258512552.32000002,\"reset_end\":258512552.32000002,\"reset_start\":-10623803.520000001,\"start\":-10623803.520000001,\"tags\":[[[\"mto_total_Soles2\",\"mto_total_Soles2\",null]]]},\"id\":\"5897\",\"type\":\"Range1d\"},{\"attributes\":{},\"id\":\"5940\",\"type\":\"BasicTickFormatter\"},{\"attributes\":{\"tools\":[{\"id\":\"5899\"},{\"id\":\"5917\"},{\"id\":\"5918\"},{\"id\":\"5919\"},{\"id\":\"5920\"},{\"id\":\"5921\"}]},\"id\":\"5923\",\"type\":\"Toolbar\"},{\"attributes\":{\"coordinates\":null,\"group\":null,\"text_color\":\"black\",\"text_font_size\":\"12pt\"},\"id\":\"5901\",\"type\":\"Title\"},{\"attributes\":{\"end\":209321137.3,\"reset_end\":209321137.3,\"reset_start\":0.0,\"tags\":[[[\"mto_total_Soles2_count\",\"Count\",null]]]},\"id\":\"5898\",\"type\":\"Range1d\"},{\"attributes\":{\"bottom_units\":\"screen\",\"coordinates\":null,\"fill_alpha\":0.5,\"fill_color\":\"lightgrey\",\"group\":null,\"left_units\":\"screen\",\"level\":\"overlay\",\"line_alpha\":1.0,\"line_color\":\"black\",\"line_dash\":[4,4],\"line_width\":2,\"right_units\":\"screen\",\"syncable\":false,\"top_units\":\"screen\"},\"id\":\"5922\",\"type\":\"BoxAnnotation\"},{\"attributes\":{},\"id\":\"5943\",\"type\":\"BasicTickFormatter\"},{\"attributes\":{\"bottom\":{\"value\":0},\"fill_alpha\":{\"value\":1.0},\"fill_color\":{\"value\":\"#30a2da\"},\"hatch_alpha\":{\"value\":1.0},\"hatch_color\":{\"value\":\"#30a2da\"},\"hatch_scale\":{\"value\":12.0},\"hatch_weight\":{\"value\":1.0},\"left\":{\"field\":\"left\"},\"line_alpha\":{\"value\":1.0},\"line_cap\":{\"value\":\"butt\"},\"line_color\":{\"value\":\"black\"},\"line_dash\":{\"value\":[]},\"line_dash_offset\":{\"value\":0},\"line_join\":{\"value\":\"bevel\"},\"line_width\":{\"value\":1},\"right\":{\"field\":\"right\"},\"top\":{\"field\":\"top\"}},\"id\":\"5938\",\"type\":\"Quad\"},{\"attributes\":{\"axis\":{\"id\":\"5913\"},\"coordinates\":null,\"dimension\":1,\"grid_line_color\":null,\"group\":null,\"ticker\":null},\"id\":\"5916\",\"type\":\"Grid\"},{\"attributes\":{\"below\":[{\"id\":\"5909\"}],\"center\":[{\"id\":\"5912\"},{\"id\":\"5916\"}],\"height\":300,\"left\":[{\"id\":\"5913\"}],\"margin\":[5,5,5,5],\"min_border_bottom\":10,\"min_border_left\":10,\"min_border_right\":10,\"min_border_top\":10,\"renderers\":[{\"id\":\"5936\"}],\"sizing_mode\":\"fixed\",\"title\":{\"id\":\"5901\"},\"toolbar\":{\"id\":\"5923\"},\"width\":700,\"x_range\":{\"id\":\"5897\"},\"x_scale\":{\"id\":\"5905\"},\"y_range\":{\"id\":\"5898\"},\"y_scale\":{\"id\":\"5907\"}},\"id\":\"5900\",\"subtype\":\"Figure\",\"type\":\"Plot\"},{\"attributes\":{\"bottom\":{\"value\":0},\"fill_alpha\":{\"value\":0.2},\"fill_color\":{\"value\":\"#30a2da\"},\"hatch_alpha\":{\"value\":0.2},\"hatch_color\":{\"value\":\"#30a2da\"},\"left\":{\"field\":\"left\"},\"line_alpha\":{\"value\":0.2},\"right\":{\"field\":\"right\"},\"top\":{\"field\":\"top\"}},\"id\":\"5935\",\"type\":\"Quad\"},{\"attributes\":{},\"id\":\"5918\",\"type\":\"PanTool\"},{\"attributes\":{},\"id\":\"5907\",\"type\":\"LinearScale\"},{\"attributes\":{\"bottom\":{\"value\":0},\"fill_color\":{\"value\":\"#30a2da\"},\"hatch_color\":{\"value\":\"#30a2da\"},\"left\":{\"field\":\"left\"},\"right\":{\"field\":\"right\"},\"top\":{\"field\":\"top\"}},\"id\":\"5933\",\"type\":\"Quad\"},{\"attributes\":{\"axis_label\":\"mto_total_Soles2\",\"coordinates\":null,\"formatter\":{\"id\":\"5940\"},\"group\":null,\"major_label_policy\":{\"id\":\"5941\"},\"ticker\":{\"id\":\"5910\"}},\"id\":\"5909\",\"type\":\"LinearAxis\"},{\"attributes\":{\"overlay\":{\"id\":\"5922\"}},\"id\":\"5920\",\"type\":\"BoxZoomTool\"},{\"attributes\":{\"data\":{\"left\":{\"__ndarray__\":\"AAAAAAAAAADiehSu+KNnQeJ6FK74o3dBKlyPgvq6gUHiehSu+KOHQZqZmdn2jI1BKlyPgvq6kUGG61GYea+UQeJ6FK74o5dBPgrXw3eYmkGamZnZ9oydQXsUrve6QKBBKlyPgvq6oUHYo3ANOjWjQYbrUZh5r6RBNDMzI7kppkHiehSu+KOnQZDC9Tg4HqlBPgrXw3eYqkHsUbhOtxKsQQ==\",\"dtype\":\"float64\",\"order\":\"little\",\"shape\":[20]},\"mto_total_Soles2\":{\"__ndarray__\":\"4noUrvijV0EqXI+C+rpxQZuZmdn2jH1BhutRmHmvhEE+CtfDd5iKQXwUrve6QJBB2KNwDTo1k0E0MzMjuSmWQZDC9Tg4HplB7FG4TrcSnEFI4XpkNgefQVK4Hr3a/aBBAQAASBp4okGvR+HSWfKjQV2Pwl2ZbKVBC9ej6NjmpkG5HoVzGGGoQWdmZv5X26lBFa5HiZdVq0HD9SgU18+sQQ==\",\"dtype\":\"float64\",\"order\":\"little\",\"shape\":[20]},\"mto_total_Soles2_count\":[190291943,3,2,1,2,1,3,0,2,0,0,0,0,0,0,0,0,0,0,1],\"right\":{\"__ndarray__\":\"4noUrvijZ0HiehSu+KN3QSpcj4L6uoFB4noUrvijh0GamZnZ9oyNQSpcj4L6upFBhutRmHmvlEHiehSu+KOXQT4K18N3mJpBmpmZ2faMnUF7FK73ukCgQSpcj4L6uqFB2KNwDTo1o0GG61GYea+kQTQzMyO5KaZB4noUrvijp0GQwvU4OB6pQT4K18N3mKpB7FG4TrcSrEGamZnZ9oytQQ==\",\"dtype\":\"float64\",\"order\":\"little\",\"shape\":[20]},\"top\":[190291943,3,2,1,2,1,3,0,2,0,0,0,0,0,0,0,0,0,0,1]},\"selected\":{\"id\":\"5931\"},\"selection_policy\":{\"id\":\"5952\"}},\"id\":\"5930\",\"type\":\"ColumnDataSource\"},{\"attributes\":{},\"id\":\"5931\",\"type\":\"Selection\"},{\"attributes\":{\"axis\":{\"id\":\"5909\"},\"coordinates\":null,\"grid_line_color\":null,\"group\":null,\"ticker\":null},\"id\":\"5912\",\"type\":\"Grid\"},{\"attributes\":{},\"id\":\"5914\",\"type\":\"BasicTicker\"},{\"attributes\":{\"children\":[{\"id\":\"5896\"},{\"id\":\"5900\"},{\"id\":\"5955\"}],\"margin\":[0,0,0,0],\"name\":\"Row05353\",\"tags\":[\"embedded\"]},\"id\":\"5895\",\"type\":\"Row\"}],\"root_ids\":[\"5895\"]},\"title\":\"Bokeh Application\",\"version\":\"2.4.3\"}};\n",
       "    var render_items = [{\"docid\":\"71163fc0-8c96-438b-945d-e3f89856a157\",\"root_ids\":[\"5895\"],\"roots\":{\"5895\":\"a7282535-d102-4439-9457-cfaf9d350ef9\"}}];\n",
       "    root.Bokeh.embed.embed_items_notebook(docs_json, render_items);\n",
       "  }\n",
       "  if (root.Bokeh !== undefined && root.Bokeh.Panel !== undefined) {\n",
       "    embed_document(root);\n",
       "  } else {\n",
       "    var attempts = 0;\n",
       "    var timer = setInterval(function(root) {\n",
       "      if (root.Bokeh !== undefined && root.Bokeh.Panel !== undefined) {\n",
       "        clearInterval(timer);\n",
       "        embed_document(root);\n",
       "      } else if (document.readyState == \"complete\") {\n",
       "        attempts++;\n",
       "        if (attempts > 200) {\n",
       "          clearInterval(timer);\n",
       "          console.log(\"Bokeh: ERROR: Unable to run BokehJS code because BokehJS library is missing\");\n",
       "        }\n",
       "      }\n",
       "    }, 25, root)\n",
       "  }\n",
       "})(window);</script>"
      ],
      "text/plain": [
       ":Histogram   [mto_total_Soles2]   (mto_total_Soles2_count)"
      ]
     },
     "execution_count": 184,
     "metadata": {
      "application/vnd.holoviews_exec.v0+json": {
       "id": "5895"
      }
     },
     "output_type": "execute_result"
    }
   ],
   "source": [
    "a3.hvplot.hist(y='mto_total_Soles2', bins=20) #,alpha=0.5)\n",
    "a3.hvplot.hist(y='mto_total_Soles2', bins=20, bin_range=(-1, 6000)) #,alpha=0.5)\n",
    "a3.hvplot.hist(y='mto_total_Soles2', bins=20, bin_range=(-1, 1000)) #,alpha=0.5)\n",
    "a3.hvplot.hist(y='mto_total_Soles2', bins=20, bin_range=(200000, 250000000 )) #,alpha=0.5)\n",
    "a3.hvplot.hist(y='mto_total_Soles2', bins=20, bin_range=(200000, 6500000)) #,alpha=0.5)"
   ]
  },
  {
   "cell_type": "code",
   "execution_count": 139,
   "id": "17c10ad7",
   "metadata": {},
   "outputs": [
    {
     "data": {},
     "metadata": {},
     "output_type": "display_data"
    },
    {
     "data": {
      "application/vnd.holoviews_exec.v0+json": "",
      "text/html": [
       "<div id='3776'>\n",
       "  <div class=\"bk-root\" id=\"b0b8e203-c36d-47d5-a360-14ac7ec1624f\" data-root-id=\"3776\"></div>\n",
       "</div>\n",
       "<script type=\"application/javascript\">(function(root) {\n",
       "  function embed_document(root) {\n",
       "    var docs_json = {\"df230d19-e7a9-41f1-915d-00d460b5a140\":{\"defs\":[{\"extends\":null,\"module\":null,\"name\":\"ReactiveHTML1\",\"overrides\":[],\"properties\":[]},{\"extends\":null,\"module\":null,\"name\":\"FlexBox1\",\"overrides\":[],\"properties\":[{\"default\":\"flex-start\",\"kind\":null,\"name\":\"align_content\"},{\"default\":\"flex-start\",\"kind\":null,\"name\":\"align_items\"},{\"default\":\"row\",\"kind\":null,\"name\":\"flex_direction\"},{\"default\":\"wrap\",\"kind\":null,\"name\":\"flex_wrap\"},{\"default\":\"flex-start\",\"kind\":null,\"name\":\"justify_content\"}]},{\"extends\":null,\"module\":null,\"name\":\"GridStack1\",\"overrides\":[],\"properties\":[{\"default\":\"warn\",\"kind\":null,\"name\":\"mode\"},{\"default\":null,\"kind\":null,\"name\":\"ncols\"},{\"default\":null,\"kind\":null,\"name\":\"nrows\"},{\"default\":true,\"kind\":null,\"name\":\"allow_resize\"},{\"default\":true,\"kind\":null,\"name\":\"allow_drag\"},{\"default\":[],\"kind\":null,\"name\":\"state\"}]},{\"extends\":null,\"module\":null,\"name\":\"click1\",\"overrides\":[],\"properties\":[{\"default\":\"\",\"kind\":null,\"name\":\"terminal_output\"},{\"default\":\"\",\"kind\":null,\"name\":\"debug_name\"},{\"default\":0,\"kind\":null,\"name\":\"clears\"}]},{\"extends\":null,\"module\":null,\"name\":\"NotificationAreaBase1\",\"overrides\":[],\"properties\":[{\"default\":\"bottom-right\",\"kind\":null,\"name\":\"position\"},{\"default\":0,\"kind\":null,\"name\":\"_clear\"}]},{\"extends\":null,\"module\":null,\"name\":\"NotificationArea1\",\"overrides\":[],\"properties\":[{\"default\":[],\"kind\":null,\"name\":\"notifications\"},{\"default\":\"bottom-right\",\"kind\":null,\"name\":\"position\"},{\"default\":0,\"kind\":null,\"name\":\"_clear\"},{\"default\":[{\"background\":\"#ffc107\",\"icon\":{\"className\":\"fas fa-exclamation-triangle\",\"color\":\"white\",\"tagName\":\"i\"},\"type\":\"warning\"},{\"background\":\"#007bff\",\"icon\":{\"className\":\"fas fa-info-circle\",\"color\":\"white\",\"tagName\":\"i\"},\"type\":\"info\"}],\"kind\":null,\"name\":\"types\"}]},{\"extends\":null,\"module\":null,\"name\":\"Notification\",\"overrides\":[],\"properties\":[{\"default\":null,\"kind\":null,\"name\":\"background\"},{\"default\":3000,\"kind\":null,\"name\":\"duration\"},{\"default\":null,\"kind\":null,\"name\":\"icon\"},{\"default\":\"\",\"kind\":null,\"name\":\"message\"},{\"default\":null,\"kind\":null,\"name\":\"notification_type\"},{\"default\":false,\"kind\":null,\"name\":\"_destroyed\"}]},{\"extends\":null,\"module\":null,\"name\":\"TemplateActions1\",\"overrides\":[],\"properties\":[{\"default\":0,\"kind\":null,\"name\":\"open_modal\"},{\"default\":0,\"kind\":null,\"name\":\"close_modal\"}]},{\"extends\":null,\"module\":null,\"name\":\"MaterialTemplateActions1\",\"overrides\":[],\"properties\":[{\"default\":0,\"kind\":null,\"name\":\"open_modal\"},{\"default\":0,\"kind\":null,\"name\":\"close_modal\"}]}],\"roots\":{\"references\":[{\"attributes\":{\"overlay\":{\"id\":\"3803\"}},\"id\":\"3801\",\"type\":\"BoxZoomTool\"},{\"attributes\":{},\"id\":\"3798\",\"type\":\"SaveTool\"},{\"attributes\":{\"axis\":{\"id\":\"3790\"},\"coordinates\":null,\"grid_line_color\":null,\"group\":null,\"ticker\":null},\"id\":\"3793\",\"type\":\"Grid\"},{\"attributes\":{\"coordinates\":null,\"data_source\":{\"id\":\"3811\"},\"glyph\":{\"id\":\"3814\"},\"group\":null,\"hover_glyph\":null,\"muted_glyph\":{\"id\":\"3816\"},\"nonselection_glyph\":{\"id\":\"3815\"},\"selection_glyph\":{\"id\":\"3819\"},\"view\":{\"id\":\"3818\"}},\"id\":\"3817\",\"type\":\"GlyphRenderer\"},{\"attributes\":{\"callback\":null,\"renderers\":[{\"id\":\"3817\"}],\"tags\":[\"hv_created\"],\"tooltips\":[[\"mto_total_Soles2\",\"@{mto_total_Soles2}\"],[\"Count\",\"@{mto_total_Soles2_count}\"]]},\"id\":\"3780\",\"type\":\"HoverTool\"},{\"attributes\":{},\"id\":\"3795\",\"type\":\"BasicTicker\"},{\"attributes\":{\"end\":1.1,\"reset_end\":1.1,\"reset_start\":0.0,\"tags\":[[[\"mto_total_Soles2_count\",\"Count\",null]]]},\"id\":\"3779\",\"type\":\"Range1d\"},{\"attributes\":{},\"id\":\"3824\",\"type\":\"BasicTickFormatter\"},{\"attributes\":{},\"id\":\"3791\",\"type\":\"BasicTicker\"},{\"attributes\":{},\"id\":\"3799\",\"type\":\"PanTool\"},{\"attributes\":{},\"id\":\"3800\",\"type\":\"WheelZoomTool\"},{\"attributes\":{\"axis_label\":\"\",\"coordinates\":null,\"formatter\":{\"id\":\"3824\"},\"group\":null,\"major_label_policy\":{\"id\":\"3825\"},\"ticker\":{\"id\":\"3795\"}},\"id\":\"3794\",\"type\":\"LinearAxis\"},{\"attributes\":{},\"id\":\"3821\",\"type\":\"BasicTickFormatter\"},{\"attributes\":{\"bottom_units\":\"screen\",\"coordinates\":null,\"fill_alpha\":0.5,\"fill_color\":\"lightgrey\",\"group\":null,\"left_units\":\"screen\",\"level\":\"overlay\",\"line_alpha\":1.0,\"line_color\":\"black\",\"line_dash\":[4,4],\"line_width\":2,\"right_units\":\"screen\",\"syncable\":false,\"top_units\":\"screen\"},\"id\":\"3803\",\"type\":\"BoxAnnotation\"},{\"attributes\":{\"data\":{\"left\":{\"__ndarray__\":\"AAAAAAAA8L9mZmZmZoZIQGZmZmZmxlhAzMzMzMykYkBmZmZmZuZoQAAAAAAAKG9AzMzMzMy0ckCZmZmZmdV1QGZmZmZm9nhAMzMzMzMXfEAAAAAAADh/QGZmZmZmLIFAzMzMzMy8gkAzMzMzM02EQJmZmZmZ3YVAAAAAAABuh0BmZmZmZv6IQMzMzMzMjopAMzMzMzMfjECZmZmZma+NQA==\",\"dtype\":\"float64\",\"order\":\"little\",\"shape\":[20]},\"mto_total_Soles2\":{\"__ndarray__\":\"ZmZmZmYGOEDMzMzMzIRSQP//////B19AmZmZmZnFZUAzMzMzMwdsQGZmZmZmJHFAMjMzMzNFdEAAAAAAAGZ3QMzMzMzMhnpAmpmZmZmnfUAzMzMzM2SAQJmZmZmZ9IFAAAAAAACFg0BmZmZmZhWFQMzMzMzMpYZAMzMzMzM2iECZmZmZmcaJQAAAAAAAV4tAZmZmZmbnjEDMzMzMzHeOQA==\",\"dtype\":\"float64\",\"order\":\"little\",\"shape\":[20]},\"mto_total_Soles2_count\":[0,1,0,0,0,0,0,0,0,0,0,0,0,0,0,0,0,0,0,0],\"right\":{\"__ndarray__\":\"ZmZmZmaGSEBmZmZmZsZYQMzMzMzMpGJAZmZmZmbmaEAAAAAAAChvQMzMzMzMtHJAmZmZmZnVdUBmZmZmZvZ4QDMzMzMzF3xAAAAAAAA4f0BmZmZmZiyBQMzMzMzMvIJAMzMzMzNNhECZmZmZmd2FQAAAAAAAbodAZmZmZmb+iEDMzMzMzI6KQDMzMzMzH4xAmZmZmZmvjUAAAAAAAECPQA==\",\"dtype\":\"float64\",\"order\":\"little\",\"shape\":[20]},\"top\":[0,1,0,0,0,0,0,0,0,0,0,0,0,0,0,0,0,0,0,0]},\"selected\":{\"id\":\"3812\"},\"selection_policy\":{\"id\":\"3833\"}},\"id\":\"3811\",\"type\":\"ColumnDataSource\"},{\"attributes\":{},\"id\":\"3822\",\"type\":\"AllLabels\"},{\"attributes\":{\"children\":[{\"id\":\"3777\"},{\"id\":\"3781\"},{\"id\":\"3836\"}],\"margin\":[0,0,0,0],\"name\":\"Row03274\",\"tags\":[\"embedded\"]},\"id\":\"3776\",\"type\":\"Row\"},{\"attributes\":{},\"id\":\"3788\",\"type\":\"LinearScale\"},{\"attributes\":{\"axis_label\":\"mto_total_Soles2\",\"coordinates\":null,\"formatter\":{\"id\":\"3821\"},\"group\":null,\"major_label_policy\":{\"id\":\"3822\"},\"ticker\":{\"id\":\"3791\"}},\"id\":\"3790\",\"type\":\"LinearAxis\"},{\"attributes\":{\"end\":1042.9,\"reset_end\":1042.9,\"reset_start\":-43.9,\"start\":-43.9,\"tags\":[[[\"mto_total_Soles2\",\"mto_total_Soles2\",null]]]},\"id\":\"3778\",\"type\":\"Range1d\"},{\"attributes\":{\"below\":[{\"id\":\"3790\"}],\"center\":[{\"id\":\"3793\"},{\"id\":\"3797\"}],\"height\":300,\"left\":[{\"id\":\"3794\"}],\"margin\":[5,5,5,5],\"min_border_bottom\":10,\"min_border_left\":10,\"min_border_right\":10,\"min_border_top\":10,\"renderers\":[{\"id\":\"3817\"}],\"sizing_mode\":\"fixed\",\"title\":{\"id\":\"3782\"},\"toolbar\":{\"id\":\"3804\"},\"width\":700,\"x_range\":{\"id\":\"3778\"},\"x_scale\":{\"id\":\"3786\"},\"y_range\":{\"id\":\"3779\"},\"y_scale\":{\"id\":\"3788\"}},\"id\":\"3781\",\"subtype\":\"Figure\",\"type\":\"Plot\"},{\"attributes\":{\"coordinates\":null,\"group\":null,\"text_color\":\"black\",\"text_font_size\":\"12pt\"},\"id\":\"3782\",\"type\":\"Title\"},{\"attributes\":{},\"id\":\"3825\",\"type\":\"AllLabels\"},{\"attributes\":{\"bottom\":{\"value\":0},\"fill_alpha\":{\"value\":0.5},\"fill_color\":{\"value\":\"#30a2da\"},\"hatch_alpha\":{\"value\":0.1},\"hatch_color\":{\"value\":\"#30a2da\"},\"left\":{\"field\":\"left\"},\"line_alpha\":{\"value\":0.5},\"right\":{\"field\":\"right\"},\"top\":{\"field\":\"top\"}},\"id\":\"3815\",\"type\":\"Quad\"},{\"attributes\":{},\"id\":\"3786\",\"type\":\"LinearScale\"},{\"attributes\":{\"axis\":{\"id\":\"3794\"},\"coordinates\":null,\"dimension\":1,\"grid_line_color\":null,\"group\":null,\"ticker\":null},\"id\":\"3797\",\"type\":\"Grid\"},{\"attributes\":{},\"id\":\"3812\",\"type\":\"Selection\"},{\"attributes\":{\"bottom\":{\"value\":0},\"fill_alpha\":{\"value\":0.2},\"fill_color\":{\"value\":\"#30a2da\"},\"hatch_alpha\":{\"value\":0.2},\"hatch_color\":{\"value\":\"#30a2da\"},\"left\":{\"field\":\"left\"},\"line_alpha\":{\"value\":0.2},\"right\":{\"field\":\"right\"},\"top\":{\"field\":\"top\"}},\"id\":\"3816\",\"type\":\"Quad\"},{\"attributes\":{\"margin\":[5,5,5,5],\"name\":\"HSpacer03278\",\"sizing_mode\":\"stretch_width\"},\"id\":\"3777\",\"type\":\"Spacer\"},{\"attributes\":{\"bottom\":{\"value\":0},\"fill_alpha\":{\"value\":0.5},\"fill_color\":{\"value\":\"#30a2da\"},\"hatch_alpha\":{\"value\":0.5},\"hatch_color\":{\"value\":\"#30a2da\"},\"left\":{\"field\":\"left\"},\"line_alpha\":{\"value\":0.5},\"right\":{\"field\":\"right\"},\"top\":{\"field\":\"top\"}},\"id\":\"3814\",\"type\":\"Quad\"},{\"attributes\":{\"source\":{\"id\":\"3811\"}},\"id\":\"3818\",\"type\":\"CDSView\"},{\"attributes\":{\"margin\":[5,5,5,5],\"name\":\"HSpacer03279\",\"sizing_mode\":\"stretch_width\"},\"id\":\"3836\",\"type\":\"Spacer\"},{\"attributes\":{\"bottom\":{\"value\":0},\"fill_alpha\":{\"value\":0.5},\"fill_color\":{\"value\":\"#30a2da\"},\"hatch_alpha\":{\"value\":0.5},\"hatch_color\":{\"value\":\"#30a2da\"},\"hatch_scale\":{\"value\":12.0},\"hatch_weight\":{\"value\":1.0},\"left\":{\"field\":\"left\"},\"line_alpha\":{\"value\":0.5},\"line_cap\":{\"value\":\"butt\"},\"line_color\":{\"value\":\"black\"},\"line_dash\":{\"value\":[]},\"line_dash_offset\":{\"value\":0},\"line_join\":{\"value\":\"bevel\"},\"line_width\":{\"value\":1},\"right\":{\"field\":\"right\"},\"top\":{\"field\":\"top\"}},\"id\":\"3819\",\"type\":\"Quad\"},{\"attributes\":{},\"id\":\"3833\",\"type\":\"UnionRenderers\"},{\"attributes\":{\"tools\":[{\"id\":\"3780\"},{\"id\":\"3798\"},{\"id\":\"3799\"},{\"id\":\"3800\"},{\"id\":\"3801\"},{\"id\":\"3802\"}]},\"id\":\"3804\",\"type\":\"Toolbar\"},{\"attributes\":{},\"id\":\"3802\",\"type\":\"ResetTool\"}],\"root_ids\":[\"3776\"]},\"title\":\"Bokeh Application\",\"version\":\"2.4.3\"}};\n",
       "    var render_items = [{\"docid\":\"df230d19-e7a9-41f1-915d-00d460b5a140\",\"root_ids\":[\"3776\"],\"roots\":{\"3776\":\"b0b8e203-c36d-47d5-a360-14ac7ec1624f\"}}];\n",
       "    root.Bokeh.embed.embed_items_notebook(docs_json, render_items);\n",
       "  }\n",
       "  if (root.Bokeh !== undefined && root.Bokeh.Panel !== undefined) {\n",
       "    embed_document(root);\n",
       "  } else {\n",
       "    var attempts = 0;\n",
       "    var timer = setInterval(function(root) {\n",
       "      if (root.Bokeh !== undefined && root.Bokeh.Panel !== undefined) {\n",
       "        clearInterval(timer);\n",
       "        embed_document(root);\n",
       "      } else if (document.readyState == \"complete\") {\n",
       "        attempts++;\n",
       "        if (attempts > 200) {\n",
       "          clearInterval(timer);\n",
       "          console.log(\"Bokeh: ERROR: Unable to run BokehJS code because BokehJS library is missing\");\n",
       "        }\n",
       "      }\n",
       "    }, 25, root)\n",
       "  }\n",
       "})(window);</script>"
      ],
      "text/plain": [
       ":Histogram   [mto_total_Soles2]   (mto_total_Soles2_count)"
      ]
     },
     "execution_count": 139,
     "metadata": {
      "application/vnd.holoviews_exec.v0+json": {
       "id": "3776"
      }
     },
     "output_type": "execute_result"
    }
   ],
   "source": [
    "a7.hvplot.hist(y='mto_total_Soles2', bins=20, bin_range=(-1, 1000)"
   ]
  },
  {
   "cell_type": "code",
   "execution_count": null,
   "id": "4df9d28d",
   "metadata": {},
   "outputs": [],
   "source": [
    "a8.hvplot.hist(y='mto_total_Soles2', bins=20, bin_range=(-1, 1000))"
   ]
  },
  {
   "cell_type": "code",
   "execution_count": 11,
   "id": "e0cd0977",
   "metadata": {},
   "outputs": [
    {
     "name": "stdout",
     "output_type": "stream",
     "text": [
      "Wall time: 8.47 ms\n"
     ]
    },
    {
     "data": {},
     "metadata": {},
     "output_type": "display_data"
    },
    {
     "data": {
      "application/vnd.holoviews_exec.v0+json": "",
      "text/html": [
       "<div id='1454'>\n",
       "  <div class=\"bk-root\" id=\"14bb7ed9-3d9b-415d-a554-e28e2fc2dfe4\" data-root-id=\"1454\"></div>\n",
       "</div>\n",
       "<script type=\"application/javascript\">(function(root) {\n",
       "  function embed_document(root) {\n",
       "    var docs_json = {\"6f6656f9-b7ce-42cf-a573-b9d4c5e9d339\":{\"defs\":[{\"extends\":null,\"module\":null,\"name\":\"ReactiveHTML1\",\"overrides\":[],\"properties\":[]},{\"extends\":null,\"module\":null,\"name\":\"FlexBox1\",\"overrides\":[],\"properties\":[{\"default\":\"flex-start\",\"kind\":null,\"name\":\"align_content\"},{\"default\":\"flex-start\",\"kind\":null,\"name\":\"align_items\"},{\"default\":\"row\",\"kind\":null,\"name\":\"flex_direction\"},{\"default\":\"wrap\",\"kind\":null,\"name\":\"flex_wrap\"},{\"default\":\"flex-start\",\"kind\":null,\"name\":\"justify_content\"}]},{\"extends\":null,\"module\":null,\"name\":\"GridStack1\",\"overrides\":[],\"properties\":[{\"default\":\"warn\",\"kind\":null,\"name\":\"mode\"},{\"default\":null,\"kind\":null,\"name\":\"ncols\"},{\"default\":null,\"kind\":null,\"name\":\"nrows\"},{\"default\":true,\"kind\":null,\"name\":\"allow_resize\"},{\"default\":true,\"kind\":null,\"name\":\"allow_drag\"},{\"default\":[],\"kind\":null,\"name\":\"state\"}]},{\"extends\":null,\"module\":null,\"name\":\"click1\",\"overrides\":[],\"properties\":[{\"default\":\"\",\"kind\":null,\"name\":\"terminal_output\"},{\"default\":\"\",\"kind\":null,\"name\":\"debug_name\"},{\"default\":0,\"kind\":null,\"name\":\"clears\"}]},{\"extends\":null,\"module\":null,\"name\":\"NotificationAreaBase1\",\"overrides\":[],\"properties\":[{\"default\":\"bottom-right\",\"kind\":null,\"name\":\"position\"},{\"default\":0,\"kind\":null,\"name\":\"_clear\"}]},{\"extends\":null,\"module\":null,\"name\":\"NotificationArea1\",\"overrides\":[],\"properties\":[{\"default\":[],\"kind\":null,\"name\":\"notifications\"},{\"default\":\"bottom-right\",\"kind\":null,\"name\":\"position\"},{\"default\":0,\"kind\":null,\"name\":\"_clear\"},{\"default\":[{\"background\":\"#ffc107\",\"icon\":{\"className\":\"fas fa-exclamation-triangle\",\"color\":\"white\",\"tagName\":\"i\"},\"type\":\"warning\"},{\"background\":\"#007bff\",\"icon\":{\"className\":\"fas fa-info-circle\",\"color\":\"white\",\"tagName\":\"i\"},\"type\":\"info\"}],\"kind\":null,\"name\":\"types\"}]},{\"extends\":null,\"module\":null,\"name\":\"Notification\",\"overrides\":[],\"properties\":[{\"default\":null,\"kind\":null,\"name\":\"background\"},{\"default\":3000,\"kind\":null,\"name\":\"duration\"},{\"default\":null,\"kind\":null,\"name\":\"icon\"},{\"default\":\"\",\"kind\":null,\"name\":\"message\"},{\"default\":null,\"kind\":null,\"name\":\"notification_type\"},{\"default\":false,\"kind\":null,\"name\":\"_destroyed\"}]},{\"extends\":null,\"module\":null,\"name\":\"TemplateActions1\",\"overrides\":[],\"properties\":[{\"default\":0,\"kind\":null,\"name\":\"open_modal\"},{\"default\":0,\"kind\":null,\"name\":\"close_modal\"}]},{\"extends\":null,\"module\":null,\"name\":\"MaterialTemplateActions1\",\"overrides\":[],\"properties\":[{\"default\":0,\"kind\":null,\"name\":\"open_modal\"},{\"default\":0,\"kind\":null,\"name\":\"close_modal\"}]}],\"roots\":{\"references\":[{\"attributes\":{\"coordinates\":null,\"data_source\":{\"id\":\"1494\"},\"glyph\":{\"id\":\"1496\"},\"group\":null,\"hover_glyph\":null,\"muted_glyph\":{\"id\":\"1498\"},\"nonselection_glyph\":{\"id\":\"1497\"},\"selection_glyph\":{\"id\":\"1501\"},\"view\":{\"id\":\"1500\"}},\"id\":\"1499\",\"type\":\"GlyphRenderer\"},{\"attributes\":{},\"id\":\"1560\",\"type\":\"Selection\"},{\"attributes\":{\"coordinates\":null,\"data_source\":{\"id\":\"1534\"},\"glyph\":{\"id\":\"1536\"},\"group\":null,\"hover_glyph\":null,\"muted_glyph\":{\"id\":\"1538\"},\"nonselection_glyph\":{\"id\":\"1537\"},\"selection_glyph\":{\"id\":\"1541\"},\"view\":{\"id\":\"1540\"}},\"id\":\"1539\",\"type\":\"GlyphRenderer\"},{\"attributes\":{\"source\":{\"id\":\"1510\"}},\"id\":\"1516\",\"type\":\"CDSView\"},{\"attributes\":{\"fill_alpha\":{\"value\":0.2},\"fill_color\":{\"value\":\"#30a2da\"},\"hatch_alpha\":{\"value\":0.2},\"height\":{\"value\":0.7},\"left\":{\"field\":\"top\"},\"line_alpha\":{\"value\":0.2},\"right\":{\"field\":\"bottom\"},\"y\":{\"field\":\"index\"}},\"id\":\"1498\",\"type\":\"HBar\"},{\"attributes\":{\"coordinates\":null,\"data_source\":{\"id\":\"1526\"},\"glyph\":{\"id\":\"1528\"},\"group\":null,\"hover_glyph\":null,\"muted_glyph\":{\"id\":\"1530\"},\"nonselection_glyph\":{\"id\":\"1529\"},\"selection_glyph\":{\"id\":\"1533\"},\"view\":{\"id\":\"1532\"}},\"id\":\"1531\",\"type\":\"GlyphRenderer\"},{\"attributes\":{},\"id\":\"1474\",\"type\":\"SaveTool\"},{\"attributes\":{\"fill_color\":{\"value\":\"#30a2da\"},\"height\":{\"value\":0.7},\"left\":{\"field\":\"top\"},\"right\":{\"field\":\"bottom\"},\"y\":{\"field\":\"index\"}},\"id\":\"1496\",\"type\":\"HBar\"},{\"attributes\":{\"line_alpha\":{\"value\":0.1},\"x0\":{\"field\":\"y0\"},\"x1\":{\"field\":\"y1\"},\"y0\":{\"field\":\"x0\"},\"y1\":{\"field\":\"x1\"}},\"id\":\"1529\",\"type\":\"Segment\"},{\"attributes\":{},\"id\":\"1567\",\"type\":\"UnionRenderers\"},{\"attributes\":{\"line_alpha\":{\"value\":0.2},\"x0\":{\"field\":\"y0\"},\"x1\":{\"field\":\"y1\"},\"y0\":{\"field\":\"x0\"},\"y1\":{\"field\":\"x1\"}},\"id\":\"1538\",\"type\":\"Segment\"},{\"attributes\":{\"fill_alpha\":{\"value\":0.1},\"fill_color\":{\"value\":\"black\"},\"hatch_alpha\":{\"value\":0.1},\"line_alpha\":{\"value\":0.1},\"x\":{\"field\":\"test\"},\"y\":{\"field\":\"index\"}},\"id\":\"1489\",\"type\":\"Circle\"},{\"attributes\":{\"margin\":[5,5,5,5],\"name\":\"HSpacer01192\",\"sizing_mode\":\"stretch_width\"},\"id\":\"1570\",\"type\":\"Spacer\"},{\"attributes\":{\"source\":{\"id\":\"1502\"}},\"id\":\"1508\",\"type\":\"CDSView\"},{\"attributes\":{\"factors\":[\"mto_total_Soles2\"],\"tags\":[[[\"cod_cpe\",\"cod_cpe\",null]]]},\"id\":\"1457\",\"type\":\"FactorRange\"},{\"attributes\":{},\"id\":\"1555\",\"type\":\"UnionRenderers\"},{\"attributes\":{},\"id\":\"1565\",\"type\":\"UnionRenderers\"},{\"attributes\":{},\"id\":\"1559\",\"type\":\"UnionRenderers\"},{\"attributes\":{\"margin\":[5,5,5,5],\"name\":\"HSpacer01191\",\"sizing_mode\":\"stretch_width\"},\"id\":\"1455\",\"type\":\"Spacer\"},{\"attributes\":{\"axis\":{\"id\":\"1471\"},\"coordinates\":null,\"dimension\":1,\"grid_line_color\":null,\"group\":null,\"ticker\":null},\"id\":\"1473\",\"type\":\"Grid\"},{\"attributes\":{},\"id\":\"1562\",\"type\":\"Selection\"},{\"attributes\":{\"line_alpha\":{\"value\":1.0},\"line_cap\":{\"value\":\"butt\"},\"line_color\":{\"value\":\"black\"},\"line_dash\":{\"value\":[]},\"line_dash_offset\":{\"value\":0},\"line_join\":{\"value\":\"bevel\"},\"line_width\":{\"value\":1},\"x0\":{\"field\":\"y0\"},\"x1\":{\"field\":\"y1\"},\"y0\":{\"field\":\"x0\"},\"y1\":{\"field\":\"x1\"}},\"id\":\"1517\",\"type\":\"Segment\"},{\"attributes\":{},\"id\":\"1543\",\"type\":\"BasicTickFormatter\"},{\"attributes\":{},\"id\":\"1556\",\"type\":\"Selection\"},{\"attributes\":{\"axis_label\":\"test\",\"coordinates\":null,\"formatter\":{\"id\":\"1543\"},\"group\":null,\"major_label_policy\":{\"id\":\"1544\"},\"ticker\":{\"id\":\"1468\"}},\"id\":\"1467\",\"type\":\"LinearAxis\"},{\"attributes\":{\"children\":[{\"id\":\"1455\"},{\"id\":\"1458\"},{\"id\":\"1570\"}],\"margin\":[0,0,0,0],\"name\":\"Row01187\",\"tags\":[\"embedded\"]},\"id\":\"1454\",\"type\":\"Row\"},{\"attributes\":{\"line_alpha\":{\"value\":1.0},\"line_cap\":{\"value\":\"butt\"},\"line_color\":{\"value\":\"black\"},\"line_dash\":{\"value\":[]},\"line_dash_offset\":{\"value\":0},\"line_join\":{\"value\":\"bevel\"},\"line_width\":{\"value\":1},\"x0\":{\"field\":\"y0\"},\"x1\":{\"field\":\"y1\"},\"y0\":{\"field\":\"x0\"},\"y1\":{\"field\":\"x1\"}},\"id\":\"1533\",\"type\":\"Segment\"},{\"attributes\":{},\"id\":\"1564\",\"type\":\"Selection\"},{\"attributes\":{},\"id\":\"1561\",\"type\":\"UnionRenderers\"},{\"attributes\":{},\"id\":\"1478\",\"type\":\"ResetTool\"},{\"attributes\":{\"tools\":[{\"id\":\"1474\"},{\"id\":\"1475\"},{\"id\":\"1476\"},{\"id\":\"1477\"},{\"id\":\"1478\"}]},\"id\":\"1480\",\"type\":\"Toolbar\"},{\"attributes\":{\"data\":{\"x0\":[[\"mto_total_Soles2\",-0.2]],\"x1\":[[\"mto_total_Soles2\",0.2]],\"y0\":[0.0],\"y1\":[0.0]},\"selected\":{\"id\":\"1566\"},\"selection_policy\":{\"id\":\"1565\"}},\"id\":\"1526\",\"type\":\"ColumnDataSource\"},{\"attributes\":{\"axis\":{\"id\":\"1467\"},\"coordinates\":null,\"grid_line_color\":null,\"group\":null,\"ticker\":null},\"id\":\"1470\",\"type\":\"Grid\"},{\"attributes\":{\"line_alpha\":{\"value\":0.1},\"x0\":{\"field\":\"y0\"},\"x1\":{\"field\":\"y1\"},\"y0\":{\"field\":\"x0\"},\"y1\":{\"field\":\"x1\"}},\"id\":\"1513\",\"type\":\"Segment\"},{\"attributes\":{\"axis_label\":\"cod_cpe\",\"coordinates\":null,\"formatter\":{\"id\":\"1546\"},\"group\":null,\"major_label_policy\":{\"id\":\"1547\"},\"ticker\":{\"id\":\"1472\"}},\"id\":\"1471\",\"type\":\"CategoricalAxis\"},{\"attributes\":{\"fill_alpha\":{\"value\":0.2},\"fill_color\":{\"value\":\"black\"},\"hatch_alpha\":{\"value\":0.2},\"line_alpha\":{\"value\":0.2},\"x\":{\"field\":\"test\"},\"y\":{\"field\":\"index\"}},\"id\":\"1490\",\"type\":\"Circle\"},{\"attributes\":{\"data\":{\"x0\":[\"mto_total_Soles2\"],\"x1\":[\"mto_total_Soles2\"],\"y0\":{\"__ndarray__\":\"AAAAAAAAAAA=\",\"dtype\":\"float64\",\"order\":\"little\",\"shape\":[1]},\"y1\":{\"__ndarray__\":\"/uKE/dRIQ0E=\",\"dtype\":\"float64\",\"order\":\"little\",\"shape\":[1,1]}},\"selected\":{\"id\":\"1564\"},\"selection_policy\":{\"id\":\"1563\"}},\"id\":\"1518\",\"type\":\"ColumnDataSource\"},{\"attributes\":{\"fill_alpha\":{\"value\":0.2},\"fill_color\":{\"value\":\"#30a2da\"},\"hatch_alpha\":{\"value\":0.2},\"height\":{\"value\":0.7},\"left\":{\"field\":\"top\"},\"line_alpha\":{\"value\":0.2},\"right\":{\"field\":\"bottom\"},\"y\":{\"field\":\"index\"}},\"id\":\"1506\",\"type\":\"HBar\"},{\"attributes\":{\"line_alpha\":{\"value\":1.0},\"line_cap\":{\"value\":\"butt\"},\"line_color\":{\"value\":\"black\"},\"line_dash\":{\"value\":[]},\"line_dash_offset\":{\"value\":0},\"line_join\":{\"value\":\"bevel\"},\"line_width\":{\"value\":1},\"x0\":{\"field\":\"y0\"},\"x1\":{\"field\":\"y1\"},\"y0\":{\"field\":\"x0\"},\"y1\":{\"field\":\"x1\"}},\"id\":\"1541\",\"type\":\"Segment\"},{\"attributes\":{\"data\":{\"bottom\":{\"__ndarray__\":\"Apkz1UjDYkE=\",\"dtype\":\"float64\",\"order\":\"little\",\"shape\":[1,1]},\"index\":[\"mto_total_Soles2\"],\"top\":{\"__ndarray__\":\"/uKE/dRIQ0E=\",\"dtype\":\"float64\",\"order\":\"little\",\"shape\":[1,1]}},\"selected\":{\"id\":\"1560\"},\"selection_policy\":{\"id\":\"1559\"}},\"id\":\"1502\",\"type\":\"ColumnDataSource\"},{\"attributes\":{\"x0\":{\"field\":\"y0\"},\"x1\":{\"field\":\"y1\"},\"y0\":{\"field\":\"x0\"},\"y1\":{\"field\":\"x1\"}},\"id\":\"1536\",\"type\":\"Segment\"},{\"attributes\":{\"line_alpha\":{\"value\":0.2},\"x0\":{\"field\":\"y0\"},\"x1\":{\"field\":\"y1\"},\"y0\":{\"field\":\"x0\"},\"y1\":{\"field\":\"x1\"}},\"id\":\"1514\",\"type\":\"Segment\"},{\"attributes\":{\"coordinates\":null,\"data_source\":{\"id\":\"1518\"},\"glyph\":{\"id\":\"1520\"},\"group\":null,\"hover_glyph\":null,\"muted_glyph\":{\"id\":\"1522\"},\"nonselection_glyph\":{\"id\":\"1521\"},\"selection_glyph\":{\"id\":\"1525\"},\"view\":{\"id\":\"1524\"}},\"id\":\"1523\",\"type\":\"GlyphRenderer\"},{\"attributes\":{},\"id\":\"1557\",\"type\":\"UnionRenderers\"},{\"attributes\":{\"angle\":{\"value\":0.0},\"fill_alpha\":{\"value\":1.0},\"fill_color\":{\"value\":\"black\"},\"hatch_alpha\":{\"value\":1.0},\"hatch_color\":{\"value\":\"black\"},\"hatch_scale\":{\"value\":12.0},\"hatch_weight\":{\"value\":1.0},\"line_alpha\":{\"value\":1.0},\"line_cap\":{\"value\":\"butt\"},\"line_color\":{\"value\":\"black\"},\"line_dash\":{\"value\":[]},\"line_dash_offset\":{\"value\":0},\"line_join\":{\"value\":\"bevel\"},\"line_width\":{\"value\":1},\"size\":{\"value\":4},\"x\":{\"field\":\"test\"},\"y\":{\"field\":\"index\"}},\"id\":\"1493\",\"type\":\"Circle\"},{\"attributes\":{\"x0\":{\"field\":\"y0\"},\"x1\":{\"field\":\"y1\"},\"y0\":{\"field\":\"x0\"},\"y1\":{\"field\":\"x1\"}},\"id\":\"1528\",\"type\":\"Segment\"},{\"attributes\":{},\"id\":\"1472\",\"type\":\"CategoricalTicker\"},{\"attributes\":{\"source\":{\"id\":\"1486\"}},\"id\":\"1492\",\"type\":\"CDSView\"},{\"attributes\":{\"source\":{\"id\":\"1494\"}},\"id\":\"1500\",\"type\":\"CDSView\"},{\"attributes\":{\"line_alpha\":{\"value\":0.1},\"x0\":{\"field\":\"y0\"},\"x1\":{\"field\":\"y1\"},\"y0\":{\"field\":\"x0\"},\"y1\":{\"field\":\"x1\"}},\"id\":\"1521\",\"type\":\"Segment\"},{\"attributes\":{\"bottom_units\":\"screen\",\"coordinates\":null,\"fill_alpha\":0.5,\"fill_color\":\"lightgrey\",\"group\":null,\"left_units\":\"screen\",\"level\":\"overlay\",\"line_alpha\":1.0,\"line_color\":\"black\",\"line_dash\":[4,4],\"line_width\":2,\"right_units\":\"screen\",\"syncable\":false,\"top_units\":\"screen\"},\"id\":\"1479\",\"type\":\"BoxAnnotation\"},{\"attributes\":{\"data\":{\"x0\":[\"mto_total_Soles2\"],\"x1\":[\"mto_total_Soles2\"],\"y0\":{\"__ndarray__\":\"zczM/DdncEE=\",\"dtype\":\"float64\",\"order\":\"little\",\"shape\":[1]},\"y1\":{\"__ndarray__\":\"Apkz1UjDYkE=\",\"dtype\":\"float64\",\"order\":\"little\",\"shape\":[1,1]}},\"selected\":{\"id\":\"1562\"},\"selection_policy\":{\"id\":\"1561\"}},\"id\":\"1510\",\"type\":\"ColumnDataSource\"},{\"attributes\":{},\"id\":\"1475\",\"type\":\"PanTool\"},{\"attributes\":{\"fill_alpha\":{\"value\":1.0},\"fill_color\":{\"value\":\"#30a2da\"},\"hatch_alpha\":{\"value\":1.0},\"hatch_color\":{\"value\":\"black\"},\"hatch_scale\":{\"value\":12.0},\"hatch_weight\":{\"value\":1.0},\"height\":{\"value\":0.7},\"left\":{\"field\":\"top\"},\"line_alpha\":{\"value\":1.0},\"line_cap\":{\"value\":\"butt\"},\"line_color\":{\"value\":\"black\"},\"line_dash\":{\"value\":[]},\"line_dash_offset\":{\"value\":0},\"line_join\":{\"value\":\"bevel\"},\"line_width\":{\"value\":1},\"right\":{\"field\":\"bottom\"},\"y\":{\"field\":\"index\"}},\"id\":\"1501\",\"type\":\"HBar\"},{\"attributes\":{\"fill_alpha\":{\"value\":0.1},\"fill_color\":{\"value\":\"#30a2da\"},\"hatch_alpha\":{\"value\":0.1},\"height\":{\"value\":0.7},\"left\":{\"field\":\"top\"},\"line_alpha\":{\"value\":0.1},\"right\":{\"field\":\"bottom\"},\"y\":{\"field\":\"index\"}},\"id\":\"1497\",\"type\":\"HBar\"},{\"attributes\":{\"source\":{\"id\":\"1526\"}},\"id\":\"1532\",\"type\":\"CDSView\"},{\"attributes\":{},\"id\":\"1476\",\"type\":\"WheelZoomTool\"},{\"attributes\":{},\"id\":\"1558\",\"type\":\"Selection\"},{\"attributes\":{\"coordinates\":null,\"data_source\":{\"id\":\"1486\"},\"glyph\":{\"id\":\"1488\"},\"group\":null,\"hover_glyph\":null,\"muted_glyph\":{\"id\":\"1490\"},\"nonselection_glyph\":{\"id\":\"1489\"},\"selection_glyph\":{\"id\":\"1493\"},\"view\":{\"id\":\"1492\"}},\"id\":\"1491\",\"type\":\"GlyphRenderer\"},{\"attributes\":{\"x0\":{\"field\":\"y0\"},\"x1\":{\"field\":\"y1\"},\"y0\":{\"field\":\"x0\"},\"y1\":{\"field\":\"x1\"}},\"id\":\"1520\",\"type\":\"Segment\"},{\"attributes\":{\"x0\":{\"field\":\"y0\"},\"x1\":{\"field\":\"y1\"},\"y0\":{\"field\":\"x0\"},\"y1\":{\"field\":\"x1\"}},\"id\":\"1512\",\"type\":\"Segment\"},{\"attributes\":{\"data\":{\"bottom\":{\"__ndarray__\":\"Apkz1UjDYkE=\",\"dtype\":\"float64\",\"order\":\"little\",\"shape\":[1,1]},\"index\":[\"mto_total_Soles2\"],\"top\":{\"__ndarray__\":\"Apkz1UjDYkE=\",\"dtype\":\"float64\",\"order\":\"little\",\"shape\":[1,1]}},\"selected\":{\"id\":\"1558\"},\"selection_policy\":{\"id\":\"1557\"}},\"id\":\"1494\",\"type\":\"ColumnDataSource\"},{\"attributes\":{},\"id\":\"1566\",\"type\":\"Selection\"},{\"attributes\":{\"line_alpha\":{\"value\":1.0},\"line_cap\":{\"value\":\"butt\"},\"line_color\":{\"value\":\"black\"},\"line_dash\":{\"value\":[]},\"line_dash_offset\":{\"value\":0},\"line_join\":{\"value\":\"bevel\"},\"line_width\":{\"value\":1},\"x0\":{\"field\":\"y0\"},\"x1\":{\"field\":\"y1\"},\"y0\":{\"field\":\"x0\"},\"y1\":{\"field\":\"x1\"}},\"id\":\"1525\",\"type\":\"Segment\"},{\"attributes\":{\"fill_alpha\":{\"value\":1.0},\"fill_color\":{\"value\":\"#30a2da\"},\"hatch_alpha\":{\"value\":1.0},\"hatch_color\":{\"value\":\"black\"},\"hatch_scale\":{\"value\":12.0},\"hatch_weight\":{\"value\":1.0},\"height\":{\"value\":0.7},\"left\":{\"field\":\"top\"},\"line_alpha\":{\"value\":1.0},\"line_cap\":{\"value\":\"butt\"},\"line_color\":{\"value\":\"black\"},\"line_dash\":{\"value\":[]},\"line_dash_offset\":{\"value\":0},\"line_join\":{\"value\":\"bevel\"},\"line_width\":{\"value\":1},\"right\":{\"field\":\"bottom\"},\"y\":{\"field\":\"index\"}},\"id\":\"1509\",\"type\":\"HBar\"},{\"attributes\":{\"coordinates\":null,\"group\":null,\"text_color\":\"black\",\"text_font_size\":\"12pt\"},\"id\":\"1459\",\"type\":\"Title\"},{\"attributes\":{},\"id\":\"1563\",\"type\":\"UnionRenderers\"},{\"attributes\":{\"coordinates\":null,\"data_source\":{\"id\":\"1510\"},\"glyph\":{\"id\":\"1512\"},\"group\":null,\"hover_glyph\":null,\"muted_glyph\":{\"id\":\"1514\"},\"nonselection_glyph\":{\"id\":\"1513\"},\"selection_glyph\":{\"id\":\"1517\"},\"view\":{\"id\":\"1516\"}},\"id\":\"1515\",\"type\":\"GlyphRenderer\"},{\"attributes\":{\"fill_alpha\":{\"value\":0.1},\"fill_color\":{\"value\":\"#30a2da\"},\"hatch_alpha\":{\"value\":0.1},\"height\":{\"value\":0.7},\"left\":{\"field\":\"top\"},\"line_alpha\":{\"value\":0.1},\"right\":{\"field\":\"bottom\"},\"y\":{\"field\":\"index\"}},\"id\":\"1505\",\"type\":\"HBar\"},{\"attributes\":{},\"id\":\"1463\",\"type\":\"LinearScale\"},{\"attributes\":{},\"id\":\"1544\",\"type\":\"AllLabels\"},{\"attributes\":{},\"id\":\"1546\",\"type\":\"CategoricalTickFormatter\"},{\"attributes\":{\"end\":30000,\"reset_end\":30000,\"reset_start\":0,\"tags\":[[[\"test\",\"test\",null]]]},\"id\":\"1456\",\"type\":\"Range1d\"},{\"attributes\":{\"line_alpha\":{\"value\":0.1},\"x0\":{\"field\":\"y0\"},\"x1\":{\"field\":\"y1\"},\"y0\":{\"field\":\"x0\"},\"y1\":{\"field\":\"x1\"}},\"id\":\"1537\",\"type\":\"Segment\"},{\"attributes\":{},\"id\":\"1547\",\"type\":\"AllLabels\"},{\"attributes\":{},\"id\":\"1568\",\"type\":\"Selection\"},{\"attributes\":{\"line_alpha\":{\"value\":0.2},\"x0\":{\"field\":\"y0\"},\"x1\":{\"field\":\"y1\"},\"y0\":{\"field\":\"x0\"},\"y1\":{\"field\":\"x1\"}},\"id\":\"1522\",\"type\":\"Segment\"},{\"attributes\":{\"below\":[{\"id\":\"1467\"}],\"center\":[{\"id\":\"1470\"},{\"id\":\"1473\"}],\"height\":300,\"left\":[{\"id\":\"1471\"}],\"margin\":[5,5,5,5],\"min_border_bottom\":10,\"min_border_left\":10,\"min_border_right\":10,\"min_border_top\":10,\"renderers\":[{\"id\":\"1491\"},{\"id\":\"1499\"},{\"id\":\"1507\"},{\"id\":\"1515\"},{\"id\":\"1523\"},{\"id\":\"1531\"},{\"id\":\"1539\"}],\"sizing_mode\":\"fixed\",\"title\":{\"id\":\"1459\"},\"toolbar\":{\"id\":\"1480\"},\"width\":700,\"x_range\":{\"id\":\"1456\"},\"x_scale\":{\"id\":\"1463\"},\"y_range\":{\"id\":\"1457\"},\"y_scale\":{\"id\":\"1465\"}},\"id\":\"1458\",\"subtype\":\"Figure\",\"type\":\"Plot\"},{\"attributes\":{\"coordinates\":null,\"data_source\":{\"id\":\"1502\"},\"glyph\":{\"id\":\"1504\"},\"group\":null,\"hover_glyph\":null,\"muted_glyph\":{\"id\":\"1506\"},\"nonselection_glyph\":{\"id\":\"1505\"},\"selection_glyph\":{\"id\":\"1509\"},\"view\":{\"id\":\"1508\"}},\"id\":\"1507\",\"type\":\"GlyphRenderer\"},{\"attributes\":{},\"id\":\"1465\",\"type\":\"CategoricalScale\"},{\"attributes\":{\"source\":{\"id\":\"1534\"}},\"id\":\"1540\",\"type\":\"CDSView\"},{\"attributes\":{\"data\":{\"index\":[\"mto_total_Soles2\",\"mto_total_Soles2\",\"mto_total_Soles2\",\"mto_total_Soles2\",\"mto_total_Soles2\",\"mto_total_Soles2\",\"mto_total_Soles2\",\"mto_total_Soles2\",\"mto_total_Soles2\",\"mto_total_Soles2\",\"mto_total_Soles2\",\"mto_total_Soles2\"],\"test\":{\"__ndarray__\":\"AAAAAITXl0EAAAAAhNeXQc3MzPxBBoJBAAAAOBwTlEEAAAD4W5CNQWZmZvqHKoFBAAAARtASk0EAAADwpnR6QTMzMwsicZRBzczM/IPXh0EAAAAAllGIQZqZmdn2jK1B\",\"dtype\":\"float64\",\"order\":\"little\",\"shape\":[12]}},\"selected\":{\"id\":\"1556\"},\"selection_policy\":{\"id\":\"1555\"}},\"id\":\"1486\",\"type\":\"ColumnDataSource\"},{\"attributes\":{},\"id\":\"1468\",\"type\":\"BasicTicker\"},{\"attributes\":{\"fill_color\":{\"value\":\"#30a2da\"},\"height\":{\"value\":0.7},\"left\":{\"field\":\"top\"},\"right\":{\"field\":\"bottom\"},\"y\":{\"field\":\"index\"}},\"id\":\"1504\",\"type\":\"HBar\"},{\"attributes\":{\"source\":{\"id\":\"1518\"}},\"id\":\"1524\",\"type\":\"CDSView\"},{\"attributes\":{\"data\":{\"x0\":[[\"mto_total_Soles2\",-0.2]],\"x1\":[[\"mto_total_Soles2\",0.2]],\"y0\":[17199999.8],\"y1\":[17199999.8]},\"selected\":{\"id\":\"1568\"},\"selection_policy\":{\"id\":\"1567\"}},\"id\":\"1534\",\"type\":\"ColumnDataSource\"},{\"attributes\":{\"fill_color\":{\"value\":\"black\"},\"x\":{\"field\":\"test\"},\"y\":{\"field\":\"index\"}},\"id\":\"1488\",\"type\":\"Circle\"},{\"attributes\":{\"line_alpha\":{\"value\":0.2},\"x0\":{\"field\":\"y0\"},\"x1\":{\"field\":\"y1\"},\"y0\":{\"field\":\"x0\"},\"y1\":{\"field\":\"x1\"}},\"id\":\"1530\",\"type\":\"Segment\"},{\"attributes\":{\"overlay\":{\"id\":\"1479\"}},\"id\":\"1477\",\"type\":\"BoxZoomTool\"}],\"root_ids\":[\"1454\"]},\"title\":\"Bokeh Application\",\"version\":\"2.4.3\"}};\n",
       "    var render_items = [{\"docid\":\"6f6656f9-b7ce-42cf-a573-b9d4c5e9d339\",\"root_ids\":[\"1454\"],\"roots\":{\"1454\":\"14bb7ed9-3d9b-415d-a554-e28e2fc2dfe4\"}}];\n",
       "    root.Bokeh.embed.embed_items_notebook(docs_json, render_items);\n",
       "  }\n",
       "  if (root.Bokeh !== undefined && root.Bokeh.Panel !== undefined) {\n",
       "    embed_document(root);\n",
       "  } else {\n",
       "    var attempts = 0;\n",
       "    var timer = setInterval(function(root) {\n",
       "      if (root.Bokeh !== undefined && root.Bokeh.Panel !== undefined) {\n",
       "        clearInterval(timer);\n",
       "        embed_document(root);\n",
       "      } else if (document.readyState == \"complete\") {\n",
       "        attempts++;\n",
       "        if (attempts > 200) {\n",
       "          clearInterval(timer);\n",
       "          console.log(\"Bokeh: ERROR: Unable to run BokehJS code because BokehJS library is missing\");\n",
       "        }\n",
       "      }\n",
       "    }, 25, root)\n",
       "  }\n",
       "})(window);</script>"
      ],
      "text/plain": [
       ":BoxWhisker   [cod_cpe]   (test)"
      ]
     },
     "execution_count": 11,
     "metadata": {
      "application/vnd.holoviews_exec.v0+json": {
       "id": "1454"
      }
     },
     "output_type": "execute_result"
    }
   ],
   "source": [
    "%%time\n",
    "columns=['mto_total_Soles2']\n",
    "a3.hvplot.box(y=columns, group_label='cod_cpe', legend=False, value_label='test', invert=True,ylim=(0, 30000)) ##, "
   ]
  },
  {
   "cell_type": "code",
   "execution_count": null,
   "id": "e2a2ec07",
   "metadata": {},
   "outputs": [],
   "source": [
    "%%time\n",
    "df1_subset = df1[df1.cod_Cpe.isin(['01', '03', '07','08'])]\n",
    "df1_subset.hvplot.kde('mto_total_Soles2', by='cod_Cpe', xlim=(-2000, 10000), width=300, subplots=True, alpha=0.3) #13.55"
   ]
  }
 ],
 "metadata": {
  "kernelspec": {
   "display_name": "Python 3 (ipykernel)",
   "language": "python",
   "name": "python3"
  },
  "language_info": {
   "codemirror_mode": {
    "name": "ipython",
    "version": 3
   },
   "file_extension": ".py",
   "mimetype": "text/x-python",
   "name": "python",
   "nbconvert_exporter": "python",
   "pygments_lexer": "ipython3",
   "version": "3.9.13"
  }
 },
 "nbformat": 4,
 "nbformat_minor": 5
}
